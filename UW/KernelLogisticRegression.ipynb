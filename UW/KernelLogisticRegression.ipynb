{
 "cells": [
  {
   "cell_type": "code",
   "execution_count": 1,
   "metadata": {
    "_cell_guid": "b1076dfc-b9ad-4769-8c92-a6c4dae69d19",
    "_uuid": "8f2839f25d086af736a60e9eeb907d3b93b6e0e5",
    "execution": {
     "iopub.execute_input": "2020-12-13T06:21:40.703252Z",
     "iopub.status.busy": "2020-12-13T06:21:40.702528Z",
     "iopub.status.idle": "2020-12-13T06:21:41.727944Z",
     "shell.execute_reply": "2020-12-13T06:21:41.726737Z"
    },
    "id": "kw1VW6DCvgSq",
    "outputId": "030d81e0-579d-463d-b2ed-6c714151a063",
    "papermill": {
     "duration": 1.053508,
     "end_time": "2020-12-13T06:21:41.728081",
     "exception": false,
     "start_time": "2020-12-13T06:21:40.674573",
     "status": "completed"
    },
    "tags": []
   },
   "outputs": [],
   "source": [
    "import warnings\n",
    "warnings.filterwarnings(\"ignore\")\n",
    "\n",
    "import sys\n",
    "sys.path.append('../input/iterative-stratification/iterative-stratification-master')\n",
    "from iterstrat.ml_stratifiers import MultilabelStratifiedKFold\n",
    "\n",
    "import os\n",
    "from time import time\n",
    "import datetime\n",
    "\n",
    "import numpy as np\n",
    "import pandas as pd\n",
    "\n",
    "from sklearn.linear_model import LogisticRegression\n",
    "from sklearn.kernel_ridge import KernelRidge\n",
    "from sklearn.preprocessing import StandardScaler\n",
    "from sklearn.model_selection import StratifiedKFold\n",
    "from sklearn.metrics import log_loss\n",
    "\n",
    "from tqdm.notebook import tqdm\n"
   ]
  },
  {
   "cell_type": "code",
   "execution_count": 2,
   "metadata": {
    "execution": {
     "iopub.execute_input": "2020-12-13T06:21:41.781528Z",
     "iopub.status.busy": "2020-12-13T06:21:41.780602Z",
     "iopub.status.idle": "2020-12-13T06:21:41.783229Z",
     "shell.execute_reply": "2020-12-13T06:21:41.782742Z"
    },
    "papermill": {
     "duration": 0.037719,
     "end_time": "2020-12-13T06:21:41.783331",
     "exception": false,
     "start_time": "2020-12-13T06:21:41.745612",
     "status": "completed"
    },
    "tags": []
   },
   "outputs": [],
   "source": [
    "def create_folds(num_starts, num_splits):\n",
    "    \n",
    "    folds = []\n",
    "    \n",
    "    # LOAD FILES\n",
    "    train_feats = pd.read_csv('../input/lish-moa/train_features.csv')\n",
    "    scored = pd.read_csv('/kaggle/input/lish-moa/train_targets_scored.csv')\n",
    "    drug = pd.read_csv('/kaggle/input/lish-moa/train_drug.csv')\n",
    "    scored = scored.loc[train_feats['cp_type'] == 'trt_cp', :]\n",
    "    drug = drug.loc[train_feats['cp_type'] == 'trt_cp', :]\n",
    "    targets = scored.columns[1:]\n",
    "    scored = scored.merge(drug, on = 'sig_id', how = 'left') \n",
    "\n",
    "    # LOCATE DRUGS\n",
    "    vc = scored.drug_id.value_counts()\n",
    "    vc1 = vc.loc[vc <= 18].index.sort_values()\n",
    "    vc2 = vc.loc[vc > 18].index.sort_values()\n",
    "    \n",
    "    for seed in range(num_starts):\n",
    "\n",
    "        # STRATIFY DRUGS 18X OR LESS\n",
    "        dct1 = {}; dct2 = {}\n",
    "        skf = MultilabelStratifiedKFold(n_splits = num_splits, shuffle = True, random_state = seed)\n",
    "        tmp = scored.groupby('drug_id')[targets].mean().loc[vc1]\n",
    "        for fold,(idxT,idxV) in enumerate(skf.split(tmp,tmp[targets])):\n",
    "            dd = {k:fold for k in tmp.index[idxV].values}\n",
    "            dct1.update(dd)\n",
    "\n",
    "        # STRATIFY DRUGS MORE THAN 18X\n",
    "        skf = MultilabelStratifiedKFold(n_splits = num_splits, shuffle = True, random_state = seed)\n",
    "        tmp = scored.loc[scored.drug_id.isin(vc2)].reset_index(drop = True)\n",
    "        for fold,(idxT,idxV) in enumerate(skf.split(tmp,tmp[targets])):\n",
    "            dd = {k:fold for k in tmp.sig_id[idxV].values}\n",
    "            dct2.update(dd)\n",
    "\n",
    "        # ASSIGN FOLDS\n",
    "        scored['fold'] = scored.drug_id.map(dct1)\n",
    "        scored.loc[scored.fold.isna(),'fold'] =\\\n",
    "            scored.loc[scored.fold.isna(),'sig_id'].map(dct2)\n",
    "        scored.fold = scored.fold.astype('int8')\n",
    "        folds.append(scored.fold.values)\n",
    "        \n",
    "        del scored['fold']\n",
    "        \n",
    "    return np.stack(folds)"
   ]
  },
  {
   "cell_type": "markdown",
   "metadata": {
    "id": "dSVuPpi2vgSv",
    "papermill": {
     "duration": 0.016472,
     "end_time": "2020-12-13T06:21:41.816289",
     "exception": false,
     "start_time": "2020-12-13T06:21:41.799817",
     "status": "completed"
    },
    "tags": []
   },
   "source": [
    "# Data Preparation"
   ]
  },
  {
   "cell_type": "code",
   "execution_count": 3,
   "metadata": {
    "_cell_guid": "79c7e3d0-c299-4dcb-8224-4455121ee9b0",
    "_uuid": "d629ff2d2480ee46fbb7e2d37f6b5fab8052498a",
    "execution": {
     "iopub.execute_input": "2020-12-13T06:21:41.858648Z",
     "iopub.status.busy": "2020-12-13T06:21:41.858077Z",
     "iopub.status.idle": "2020-12-13T06:21:49.676642Z",
     "shell.execute_reply": "2020-12-13T06:21:49.675883Z"
    },
    "id": "UvG3N1HHvgSv",
    "papermill": {
     "duration": 7.843766,
     "end_time": "2020-12-13T06:21:49.676759",
     "exception": false,
     "start_time": "2020-12-13T06:21:41.832993",
     "status": "completed"
    },
    "tags": []
   },
   "outputs": [],
   "source": [
    "train_features = pd.read_csv('../input/lish-moa/train_features.csv')\n",
    "train_targets = pd.read_csv('../input/lish-moa/train_targets_scored.csv')\n",
    "test_features = pd.read_csv('../input/lish-moa/test_features.csv')\n",
    "\n",
    "ss_krr = pd.read_csv('../input/lish-moa/sample_submission.csv')\n",
    "ss_lr = ss_krr.copy()\n",
    "\n",
    "cols = [c for c in ss_krr.columns.values if c != 'sig_id']\n",
    "GENES = [col for col in train_features.columns if col.startswith('g-')]\n",
    "CELLS = [col for col in train_features.columns if col.startswith('c-')]"
   ]
  },
  {
   "cell_type": "code",
   "execution_count": 4,
   "metadata": {
    "execution": {
     "iopub.execute_input": "2020-12-13T06:21:49.721983Z",
     "iopub.status.busy": "2020-12-13T06:21:49.721377Z",
     "iopub.status.idle": "2020-12-13T06:21:49.770171Z",
     "shell.execute_reply": "2020-12-13T06:21:49.770698Z"
    },
    "papermill": {
     "duration": 0.076637,
     "end_time": "2020-12-13T06:21:49.770837",
     "exception": false,
     "start_time": "2020-12-13T06:21:49.694200",
     "status": "completed"
    },
    "tags": []
   },
   "outputs": [
    {
     "data": {
      "text/html": [
       "<div>\n",
       "<style scoped>\n",
       "    .dataframe tbody tr th:only-of-type {\n",
       "        vertical-align: middle;\n",
       "    }\n",
       "\n",
       "    .dataframe tbody tr th {\n",
       "        vertical-align: top;\n",
       "    }\n",
       "\n",
       "    .dataframe thead th {\n",
       "        text-align: right;\n",
       "    }\n",
       "</style>\n",
       "<table border=\"1\" class=\"dataframe\">\n",
       "  <thead>\n",
       "    <tr style=\"text-align: right;\">\n",
       "      <th></th>\n",
       "      <th>sig_id</th>\n",
       "      <th>cp_type</th>\n",
       "      <th>cp_time</th>\n",
       "      <th>cp_dose</th>\n",
       "      <th>g-0</th>\n",
       "      <th>g-1</th>\n",
       "      <th>g-2</th>\n",
       "      <th>g-3</th>\n",
       "      <th>g-4</th>\n",
       "      <th>g-5</th>\n",
       "      <th>...</th>\n",
       "      <th>c-90</th>\n",
       "      <th>c-91</th>\n",
       "      <th>c-92</th>\n",
       "      <th>c-93</th>\n",
       "      <th>c-94</th>\n",
       "      <th>c-95</th>\n",
       "      <th>c-96</th>\n",
       "      <th>c-97</th>\n",
       "      <th>c-98</th>\n",
       "      <th>c-99</th>\n",
       "    </tr>\n",
       "  </thead>\n",
       "  <tbody>\n",
       "    <tr>\n",
       "      <th>0</th>\n",
       "      <td>id_000644bb2</td>\n",
       "      <td>trt_cp</td>\n",
       "      <td>24</td>\n",
       "      <td>D1</td>\n",
       "      <td>1.0620</td>\n",
       "      <td>0.5577</td>\n",
       "      <td>-0.2479</td>\n",
       "      <td>-0.6208</td>\n",
       "      <td>-0.1944</td>\n",
       "      <td>-1.0120</td>\n",
       "      <td>...</td>\n",
       "      <td>0.2862</td>\n",
       "      <td>0.2584</td>\n",
       "      <td>0.8076</td>\n",
       "      <td>0.5523</td>\n",
       "      <td>-0.1912</td>\n",
       "      <td>0.6584</td>\n",
       "      <td>-0.3981</td>\n",
       "      <td>0.2139</td>\n",
       "      <td>0.3801</td>\n",
       "      <td>0.4176</td>\n",
       "    </tr>\n",
       "    <tr>\n",
       "      <th>1</th>\n",
       "      <td>id_000779bfc</td>\n",
       "      <td>trt_cp</td>\n",
       "      <td>72</td>\n",
       "      <td>D1</td>\n",
       "      <td>0.0743</td>\n",
       "      <td>0.4087</td>\n",
       "      <td>0.2991</td>\n",
       "      <td>0.0604</td>\n",
       "      <td>1.0190</td>\n",
       "      <td>0.5207</td>\n",
       "      <td>...</td>\n",
       "      <td>-0.4265</td>\n",
       "      <td>0.7543</td>\n",
       "      <td>0.4708</td>\n",
       "      <td>0.0230</td>\n",
       "      <td>0.2957</td>\n",
       "      <td>0.4899</td>\n",
       "      <td>0.1522</td>\n",
       "      <td>0.1241</td>\n",
       "      <td>0.6077</td>\n",
       "      <td>0.7371</td>\n",
       "    </tr>\n",
       "    <tr>\n",
       "      <th>2</th>\n",
       "      <td>id_000a6266a</td>\n",
       "      <td>trt_cp</td>\n",
       "      <td>48</td>\n",
       "      <td>D1</td>\n",
       "      <td>0.6280</td>\n",
       "      <td>0.5817</td>\n",
       "      <td>1.5540</td>\n",
       "      <td>-0.0764</td>\n",
       "      <td>-0.0323</td>\n",
       "      <td>1.2390</td>\n",
       "      <td>...</td>\n",
       "      <td>-0.7250</td>\n",
       "      <td>-0.6297</td>\n",
       "      <td>0.6103</td>\n",
       "      <td>0.0223</td>\n",
       "      <td>-1.3240</td>\n",
       "      <td>-0.3174</td>\n",
       "      <td>-0.6417</td>\n",
       "      <td>-0.2187</td>\n",
       "      <td>-1.4080</td>\n",
       "      <td>0.6931</td>\n",
       "    </tr>\n",
       "    <tr>\n",
       "      <th>3</th>\n",
       "      <td>id_0015fd391</td>\n",
       "      <td>trt_cp</td>\n",
       "      <td>48</td>\n",
       "      <td>D1</td>\n",
       "      <td>-0.5138</td>\n",
       "      <td>-0.2491</td>\n",
       "      <td>-0.2656</td>\n",
       "      <td>0.5288</td>\n",
       "      <td>4.0620</td>\n",
       "      <td>-0.8095</td>\n",
       "      <td>...</td>\n",
       "      <td>-2.0990</td>\n",
       "      <td>-0.6441</td>\n",
       "      <td>-5.6300</td>\n",
       "      <td>-1.3780</td>\n",
       "      <td>-0.8632</td>\n",
       "      <td>-1.2880</td>\n",
       "      <td>-1.6210</td>\n",
       "      <td>-0.8784</td>\n",
       "      <td>-0.3876</td>\n",
       "      <td>-0.8154</td>\n",
       "    </tr>\n",
       "    <tr>\n",
       "      <th>4</th>\n",
       "      <td>id_001626bd3</td>\n",
       "      <td>trt_cp</td>\n",
       "      <td>72</td>\n",
       "      <td>D2</td>\n",
       "      <td>-0.3254</td>\n",
       "      <td>-0.4009</td>\n",
       "      <td>0.9700</td>\n",
       "      <td>0.6919</td>\n",
       "      <td>1.4180</td>\n",
       "      <td>-0.8244</td>\n",
       "      <td>...</td>\n",
       "      <td>0.0042</td>\n",
       "      <td>0.0048</td>\n",
       "      <td>0.6670</td>\n",
       "      <td>1.0690</td>\n",
       "      <td>0.5523</td>\n",
       "      <td>-0.3031</td>\n",
       "      <td>0.1094</td>\n",
       "      <td>0.2885</td>\n",
       "      <td>-0.3786</td>\n",
       "      <td>0.7125</td>\n",
       "    </tr>\n",
       "    <tr>\n",
       "      <th>...</th>\n",
       "      <td>...</td>\n",
       "      <td>...</td>\n",
       "      <td>...</td>\n",
       "      <td>...</td>\n",
       "      <td>...</td>\n",
       "      <td>...</td>\n",
       "      <td>...</td>\n",
       "      <td>...</td>\n",
       "      <td>...</td>\n",
       "      <td>...</td>\n",
       "      <td>...</td>\n",
       "      <td>...</td>\n",
       "      <td>...</td>\n",
       "      <td>...</td>\n",
       "      <td>...</td>\n",
       "      <td>...</td>\n",
       "      <td>...</td>\n",
       "      <td>...</td>\n",
       "      <td>...</td>\n",
       "      <td>...</td>\n",
       "      <td>...</td>\n",
       "    </tr>\n",
       "    <tr>\n",
       "      <th>23809</th>\n",
       "      <td>id_fffb1ceed</td>\n",
       "      <td>trt_cp</td>\n",
       "      <td>24</td>\n",
       "      <td>D2</td>\n",
       "      <td>0.1394</td>\n",
       "      <td>-0.0636</td>\n",
       "      <td>-0.1112</td>\n",
       "      <td>-0.5080</td>\n",
       "      <td>-0.4713</td>\n",
       "      <td>0.7201</td>\n",
       "      <td>...</td>\n",
       "      <td>0.1969</td>\n",
       "      <td>0.0262</td>\n",
       "      <td>-0.8121</td>\n",
       "      <td>0.3434</td>\n",
       "      <td>0.5372</td>\n",
       "      <td>-0.3246</td>\n",
       "      <td>0.0631</td>\n",
       "      <td>0.9171</td>\n",
       "      <td>0.5258</td>\n",
       "      <td>0.4680</td>\n",
       "    </tr>\n",
       "    <tr>\n",
       "      <th>23810</th>\n",
       "      <td>id_fffb70c0c</td>\n",
       "      <td>trt_cp</td>\n",
       "      <td>24</td>\n",
       "      <td>D2</td>\n",
       "      <td>-1.3260</td>\n",
       "      <td>0.3478</td>\n",
       "      <td>-0.3743</td>\n",
       "      <td>0.9905</td>\n",
       "      <td>-0.7178</td>\n",
       "      <td>0.6621</td>\n",
       "      <td>...</td>\n",
       "      <td>0.4286</td>\n",
       "      <td>0.4426</td>\n",
       "      <td>0.0423</td>\n",
       "      <td>-0.3195</td>\n",
       "      <td>-0.8086</td>\n",
       "      <td>-0.9798</td>\n",
       "      <td>-0.2084</td>\n",
       "      <td>-0.1224</td>\n",
       "      <td>-0.2715</td>\n",
       "      <td>0.3689</td>\n",
       "    </tr>\n",
       "    <tr>\n",
       "      <th>23811</th>\n",
       "      <td>id_fffc1c3f4</td>\n",
       "      <td>ctl_vehicle</td>\n",
       "      <td>48</td>\n",
       "      <td>D2</td>\n",
       "      <td>0.3942</td>\n",
       "      <td>0.3756</td>\n",
       "      <td>0.3109</td>\n",
       "      <td>-0.7389</td>\n",
       "      <td>0.5505</td>\n",
       "      <td>-0.0159</td>\n",
       "      <td>...</td>\n",
       "      <td>0.5409</td>\n",
       "      <td>0.3755</td>\n",
       "      <td>0.7343</td>\n",
       "      <td>0.2807</td>\n",
       "      <td>0.4116</td>\n",
       "      <td>0.6422</td>\n",
       "      <td>0.2256</td>\n",
       "      <td>0.7592</td>\n",
       "      <td>0.6656</td>\n",
       "      <td>0.3808</td>\n",
       "    </tr>\n",
       "    <tr>\n",
       "      <th>23812</th>\n",
       "      <td>id_fffcb9e7c</td>\n",
       "      <td>trt_cp</td>\n",
       "      <td>24</td>\n",
       "      <td>D1</td>\n",
       "      <td>0.6660</td>\n",
       "      <td>0.2324</td>\n",
       "      <td>0.4392</td>\n",
       "      <td>0.2044</td>\n",
       "      <td>0.8531</td>\n",
       "      <td>-0.0343</td>\n",
       "      <td>...</td>\n",
       "      <td>-0.1105</td>\n",
       "      <td>0.4258</td>\n",
       "      <td>-0.2012</td>\n",
       "      <td>0.1506</td>\n",
       "      <td>1.5230</td>\n",
       "      <td>0.7101</td>\n",
       "      <td>0.1732</td>\n",
       "      <td>0.7015</td>\n",
       "      <td>-0.6290</td>\n",
       "      <td>0.0740</td>\n",
       "    </tr>\n",
       "    <tr>\n",
       "      <th>23813</th>\n",
       "      <td>id_ffffdd77b</td>\n",
       "      <td>trt_cp</td>\n",
       "      <td>72</td>\n",
       "      <td>D1</td>\n",
       "      <td>-0.8598</td>\n",
       "      <td>1.0240</td>\n",
       "      <td>-0.1361</td>\n",
       "      <td>0.7952</td>\n",
       "      <td>-0.3611</td>\n",
       "      <td>-3.6750</td>\n",
       "      <td>...</td>\n",
       "      <td>-3.3890</td>\n",
       "      <td>-1.7450</td>\n",
       "      <td>-6.6300</td>\n",
       "      <td>-4.0950</td>\n",
       "      <td>-7.3860</td>\n",
       "      <td>-1.4160</td>\n",
       "      <td>-3.5770</td>\n",
       "      <td>-0.4775</td>\n",
       "      <td>-2.1500</td>\n",
       "      <td>-4.2520</td>\n",
       "    </tr>\n",
       "  </tbody>\n",
       "</table>\n",
       "<p>23814 rows × 876 columns</p>\n",
       "</div>"
      ],
      "text/plain": [
       "             sig_id      cp_type  cp_time cp_dose     g-0     g-1     g-2  \\\n",
       "0      id_000644bb2       trt_cp       24      D1  1.0620  0.5577 -0.2479   \n",
       "1      id_000779bfc       trt_cp       72      D1  0.0743  0.4087  0.2991   \n",
       "2      id_000a6266a       trt_cp       48      D1  0.6280  0.5817  1.5540   \n",
       "3      id_0015fd391       trt_cp       48      D1 -0.5138 -0.2491 -0.2656   \n",
       "4      id_001626bd3       trt_cp       72      D2 -0.3254 -0.4009  0.9700   \n",
       "...             ...          ...      ...     ...     ...     ...     ...   \n",
       "23809  id_fffb1ceed       trt_cp       24      D2  0.1394 -0.0636 -0.1112   \n",
       "23810  id_fffb70c0c       trt_cp       24      D2 -1.3260  0.3478 -0.3743   \n",
       "23811  id_fffc1c3f4  ctl_vehicle       48      D2  0.3942  0.3756  0.3109   \n",
       "23812  id_fffcb9e7c       trt_cp       24      D1  0.6660  0.2324  0.4392   \n",
       "23813  id_ffffdd77b       trt_cp       72      D1 -0.8598  1.0240 -0.1361   \n",
       "\n",
       "          g-3     g-4     g-5  ...    c-90    c-91    c-92    c-93    c-94  \\\n",
       "0     -0.6208 -0.1944 -1.0120  ...  0.2862  0.2584  0.8076  0.5523 -0.1912   \n",
       "1      0.0604  1.0190  0.5207  ... -0.4265  0.7543  0.4708  0.0230  0.2957   \n",
       "2     -0.0764 -0.0323  1.2390  ... -0.7250 -0.6297  0.6103  0.0223 -1.3240   \n",
       "3      0.5288  4.0620 -0.8095  ... -2.0990 -0.6441 -5.6300 -1.3780 -0.8632   \n",
       "4      0.6919  1.4180 -0.8244  ...  0.0042  0.0048  0.6670  1.0690  0.5523   \n",
       "...       ...     ...     ...  ...     ...     ...     ...     ...     ...   \n",
       "23809 -0.5080 -0.4713  0.7201  ...  0.1969  0.0262 -0.8121  0.3434  0.5372   \n",
       "23810  0.9905 -0.7178  0.6621  ...  0.4286  0.4426  0.0423 -0.3195 -0.8086   \n",
       "23811 -0.7389  0.5505 -0.0159  ...  0.5409  0.3755  0.7343  0.2807  0.4116   \n",
       "23812  0.2044  0.8531 -0.0343  ... -0.1105  0.4258 -0.2012  0.1506  1.5230   \n",
       "23813  0.7952 -0.3611 -3.6750  ... -3.3890 -1.7450 -6.6300 -4.0950 -7.3860   \n",
       "\n",
       "         c-95    c-96    c-97    c-98    c-99  \n",
       "0      0.6584 -0.3981  0.2139  0.3801  0.4176  \n",
       "1      0.4899  0.1522  0.1241  0.6077  0.7371  \n",
       "2     -0.3174 -0.6417 -0.2187 -1.4080  0.6931  \n",
       "3     -1.2880 -1.6210 -0.8784 -0.3876 -0.8154  \n",
       "4     -0.3031  0.1094  0.2885 -0.3786  0.7125  \n",
       "...       ...     ...     ...     ...     ...  \n",
       "23809 -0.3246  0.0631  0.9171  0.5258  0.4680  \n",
       "23810 -0.9798 -0.2084 -0.1224 -0.2715  0.3689  \n",
       "23811  0.6422  0.2256  0.7592  0.6656  0.3808  \n",
       "23812  0.7101  0.1732  0.7015 -0.6290  0.0740  \n",
       "23813 -1.4160 -3.5770 -0.4775 -2.1500 -4.2520  \n",
       "\n",
       "[23814 rows x 876 columns]"
      ]
     },
     "execution_count": 4,
     "metadata": {},
     "output_type": "execute_result"
    }
   ],
   "source": [
    "train_features"
   ]
  },
  {
   "cell_type": "code",
   "execution_count": 5,
   "metadata": {
    "execution": {
     "iopub.execute_input": "2020-12-13T06:21:49.820358Z",
     "iopub.status.busy": "2020-12-13T06:21:49.814238Z",
     "iopub.status.idle": "2020-12-13T06:21:49.969143Z",
     "shell.execute_reply": "2020-12-13T06:21:49.968587Z"
    },
    "id": "JItYfC6jvgSy",
    "papermill": {
     "duration": 0.180392,
     "end_time": "2020-12-13T06:21:49.969261",
     "exception": false,
     "start_time": "2020-12-13T06:21:49.788869",
     "status": "completed"
    },
    "tags": []
   },
   "outputs": [],
   "source": [
    "def preprocess(df):\n",
    "    df.loc[:, 'cp_type'] = df.loc[:, 'cp_type'].map({'trt_cp': 0, 'ctl_vehicle': 1})\n",
    "    df.loc[:, 'cp_time'] = df.loc[:, 'cp_time'].map({24: 0, 48: 0.5, 72: 1})\n",
    "    df.loc[:, 'cp_dose'] = df.loc[:, 'cp_dose'].map({'D1': 0, 'D2': 1})\n",
    "    del df['sig_id']\n",
    "    return df\n",
    "\n",
    "def log_loss_metric(y_true, y_pred):\n",
    "    y_pred_clip = np.clip(y_pred, 1e-15, 1 - 1e-15)\n",
    "    return - np.mean(y_true * np.log(y_pred_clip) + (1 - y_true) * np.log(1 - y_pred_clip))\n",
    "\n",
    "train = preprocess(train_features)\n",
    "test = preprocess(test_features)\n",
    "\n",
    "del train_targets['sig_id']"
   ]
  },
  {
   "cell_type": "code",
   "execution_count": 6,
   "metadata": {
    "execution": {
     "iopub.execute_input": "2020-12-13T06:21:50.018032Z",
     "iopub.status.busy": "2020-12-13T06:21:50.016896Z",
     "iopub.status.idle": "2020-12-13T06:22:05.066051Z",
     "shell.execute_reply": "2020-12-13T06:22:05.065113Z"
    },
    "papermill": {
     "duration": 15.077667,
     "end_time": "2020-12-13T06:22:05.066167",
     "exception": false,
     "start_time": "2020-12-13T06:21:49.988500",
     "status": "completed"
    },
    "tags": []
   },
   "outputs": [],
   "source": [
    "from sklearn.preprocessing import QuantileTransformer\n",
    "\n",
    "qt = QuantileTransformer(n_quantiles = 100, output_distribution = 'normal', random_state = 42)\n",
    "qt.fit(pd.concat([pd.DataFrame(train[GENES+CELLS]), pd.DataFrame(test[GENES+CELLS])]))\n",
    "train[GENES+CELLS] = qt.transform(train[GENES+CELLS])\n",
    "test[GENES+CELLS] = qt.transform(test[GENES+CELLS])"
   ]
  },
  {
   "cell_type": "code",
   "execution_count": 7,
   "metadata": {
    "execution": {
     "iopub.execute_input": "2020-12-13T06:22:05.116357Z",
     "iopub.status.busy": "2020-12-13T06:22:05.115548Z",
     "iopub.status.idle": "2020-12-13T06:22:16.772895Z",
     "shell.execute_reply": "2020-12-13T06:22:16.771873Z"
    },
    "papermill": {
     "duration": 11.688617,
     "end_time": "2020-12-13T06:22:16.773019",
     "exception": false,
     "start_time": "2020-12-13T06:22:05.084402",
     "status": "completed"
    },
    "tags": []
   },
   "outputs": [],
   "source": [
    "from sklearn.decomposition import PCA\n",
    "\n",
    "# GENES\n",
    "n_comp_genes = 550\n",
    "\n",
    "data = pd.concat([pd.DataFrame(train[GENES]), pd.DataFrame(test[GENES])])\n",
    "pca_genes = PCA(n_components=n_comp_genes, random_state = 42)\n",
    "data2 = pca_genes.fit_transform(data[GENES])\n",
    "train2 = data2[:train.shape[0]]; test2 = data2[-test.shape[0]:]\n",
    "\n",
    "train2 = pd.DataFrame(train2, columns=[f'pca_G-{i}' for i in range(n_comp_genes)])\n",
    "test2 = pd.DataFrame(test2, columns=[f'pca_G-{i}' for i in range(n_comp_genes)])\n",
    "\n",
    "train = pd.concat((train, train2), axis=1)\n",
    "test = pd.concat((test, test2), axis=1)\n",
    "\n",
    "#CELLS\n",
    "n_comp_cells = 70\n",
    "\n",
    "data = pd.concat([pd.DataFrame(train[CELLS]), pd.DataFrame(test[CELLS])])\n",
    "pca_cells = PCA(n_components=n_comp_cells, random_state = 42)\n",
    "data2 = pca_cells.fit_transform(data[CELLS])\n",
    "train2 = data2[:train.shape[0]]; test2 = data2[-test.shape[0]:]\n",
    "\n",
    "train2 = pd.DataFrame(train2, columns=[f'pca_C-{i}' for i in range(n_comp_cells)])\n",
    "test2 = pd.DataFrame(test2, columns=[f'pca_C-{i}' for i in range(n_comp_cells)])\n",
    "\n",
    "train = pd.concat((train, train2), axis=1)\n",
    "test = pd.concat((test, test2), axis=1)"
   ]
  },
  {
   "cell_type": "code",
   "execution_count": 8,
   "metadata": {
    "execution": {
     "iopub.execute_input": "2020-12-13T06:22:16.818419Z",
     "iopub.status.busy": "2020-12-13T06:22:16.817671Z",
     "iopub.status.idle": "2020-12-13T06:22:18.009533Z",
     "shell.execute_reply": "2020-12-13T06:22:18.011012Z"
    },
    "papermill": {
     "duration": 1.220495,
     "end_time": "2020-12-13T06:22:18.011228",
     "exception": false,
     "start_time": "2020-12-13T06:22:16.790733",
     "status": "completed"
    },
    "tags": []
   },
   "outputs": [
    {
     "name": "stdout",
     "output_type": "stream",
     "text": [
      "(23814, 1040)\n",
      "(3982, 1040)\n"
     ]
    }
   ],
   "source": [
    "from sklearn.feature_selection import VarianceThreshold\n",
    "\n",
    "var_thresh = VarianceThreshold(0.8)\n",
    "data = train.append(test)\n",
    "data_transformed = var_thresh.fit_transform(data.iloc[:, 3:])\n",
    "\n",
    "train_transformed = data_transformed[ : train.shape[0]]\n",
    "test_transformed = data_transformed[-test.shape[0] : ]\n",
    "\n",
    "train = pd.DataFrame(train[['cp_type','cp_time','cp_dose']].values.reshape(-1, 3),\\\n",
    "            columns=['cp_type','cp_time','cp_dose'])\n",
    "\n",
    "train = pd.concat([train, pd.DataFrame(train_transformed)], axis=1)\n",
    "\n",
    "test = pd.DataFrame(test[['cp_type','cp_time','cp_dose']].values.reshape(-1, 3),\\\n",
    "            columns=['cp_type','cp_time','cp_dose'])\n",
    "\n",
    "test = pd.concat([test, pd.DataFrame(test_transformed)], axis=1)\n",
    "\n",
    "print(train.shape)\n",
    "print(test.shape)"
   ]
  },
  {
   "cell_type": "code",
   "execution_count": 9,
   "metadata": {
    "execution": {
     "iopub.execute_input": "2020-12-13T06:22:18.074646Z",
     "iopub.status.busy": "2020-12-13T06:22:18.073802Z",
     "iopub.status.idle": "2020-12-13T06:22:18.455157Z",
     "shell.execute_reply": "2020-12-13T06:22:18.456384Z"
    },
    "papermill": {
     "duration": 0.415255,
     "end_time": "2020-12-13T06:22:18.456575",
     "exception": false,
     "start_time": "2020-12-13T06:22:18.041320",
     "status": "completed"
    },
    "tags": []
   },
   "outputs": [
    {
     "name": "stdout",
     "output_type": "stream",
     "text": [
      "(21948, 1040)\n"
     ]
    }
   ],
   "source": [
    "train_targets = train_targets.loc[train['cp_type'] == 0].reset_index(drop = True)\n",
    "train = train.loc[train['cp_type'] == 0].reset_index(drop = True)\n",
    "\n",
    "print(train.shape)"
   ]
  },
  {
   "cell_type": "code",
   "execution_count": 10,
   "metadata": {
    "execution": {
     "iopub.execute_input": "2020-12-13T06:22:18.517214Z",
     "iopub.status.busy": "2020-12-13T06:22:18.516393Z",
     "iopub.status.idle": "2020-12-13T06:22:18.520507Z",
     "shell.execute_reply": "2020-12-13T06:22:18.517889Z"
    },
    "papermill": {
     "duration": 0.037245,
     "end_time": "2020-12-13T06:22:18.520696",
     "exception": false,
     "start_time": "2020-12-13T06:22:18.483451",
     "status": "completed"
    },
    "tags": []
   },
   "outputs": [
    {
     "name": "stdout",
     "output_type": "stream",
     "text": [
      "[   1    2    3 ... 1037 1038 1039]\n"
     ]
    }
   ],
   "source": [
    "top_feats = np.arange(1, train.shape[1])\n",
    "print(top_feats)"
   ]
  },
  {
   "cell_type": "code",
   "execution_count": 11,
   "metadata": {
    "execution": {
     "iopub.execute_input": "2020-12-13T06:22:18.587496Z",
     "iopub.status.busy": "2020-12-13T06:22:18.586673Z",
     "iopub.status.idle": "2020-12-13T06:22:22.923606Z",
     "shell.execute_reply": "2020-12-13T06:22:22.924408Z"
    },
    "papermill": {
     "duration": 4.378115,
     "end_time": "2020-12-13T06:22:22.924576",
     "exception": false,
     "start_time": "2020-12-13T06:22:18.546461",
     "status": "completed"
    },
    "tags": []
   },
   "outputs": [
    {
     "name": "stdout",
     "output_type": "stream",
     "text": [
      "[[1 4 2 ... 1 0 4]]\n"
     ]
    }
   ],
   "source": [
    "N_SPLITS = 5\n",
    "LBS = 0.0008\n",
    "folds = create_folds(1, N_SPLITS)\n",
    "print(folds)"
   ]
  },
  {
   "cell_type": "markdown",
   "metadata": {
    "id": "0eDJ68r-vgTA",
    "papermill": {
     "duration": 0.018496,
     "end_time": "2020-12-13T06:22:22.963813",
     "exception": false,
     "start_time": "2020-12-13T06:22:22.945317",
     "status": "completed"
    },
    "tags": []
   },
   "source": [
    "# Kernel Logistic Regression"
   ]
  },
  {
   "cell_type": "code",
   "execution_count": 12,
   "metadata": {
    "execution": {
     "iopub.execute_input": "2020-12-13T06:22:23.018835Z",
     "iopub.status.busy": "2020-12-13T06:22:23.017463Z",
     "iopub.status.idle": "2020-12-13T06:27:44.678064Z",
     "shell.execute_reply": "2020-12-13T06:27:44.678745Z"
    },
    "id": "qiCub3F5vgTA",
    "outputId": "a409642d-80cd-4fdb-d21b-586422655f38",
    "papermill": {
     "duration": 321.695985,
     "end_time": "2020-12-13T06:27:44.678964",
     "exception": false,
     "start_time": "2020-12-13T06:22:22.982979",
     "status": "completed"
    },
    "tags": []
   },
   "outputs": [
    {
     "name": "stdout",
     "output_type": "stream",
     "text": [
      "[01:05] KRR: Fold 0: 0.04252455401003149\n",
      "[01:03] KRR: Fold 1: 0.03841322293093819\n",
      "[01:03] KRR: Fold 2: 0.04263732823652618\n",
      "[01:03] KRR: Fold 3: 0.040042855817107925\n",
      "[01:04] KRR: Fold 4: 0.04423631630108548\n"
     ]
    }
   ],
   "source": [
    "res_krr = train_targets.copy()\n",
    "ss_krr.loc[:, train_targets.columns] = 0\n",
    "res_krr.loc[:, train_targets.columns] = 0\n",
    "\n",
    "# for n, (tr, te) in enumerate(MultilabelStratifiedKFold(n_splits = N_SPLITS, random_state = 0, shuffle = True).split(train_targets, train_targets)):\n",
    "for n, foldno in enumerate(set(folds[0])):\n",
    "    start_time = time()\n",
    "    tr = folds[0] != foldno\n",
    "    te = folds[0] == foldno\n",
    "\n",
    "    x_tr, x_val = train.values[tr][:, top_feats], train.values[te][:, top_feats]\n",
    "    y_tr, y_val = train_targets.astype(float).values[tr], train_targets.astype(float).values[te]\n",
    "    x_tt = test.values[:, top_feats]\n",
    "    \n",
    "    model = KernelRidge(alpha = 1, kernel = 'rbf')\n",
    "    model.fit(x_tr, y_tr)\n",
    "\n",
    "    ss_krr.loc[:, train_targets.columns] += model.predict(x_tt) / N_SPLITS\n",
    "    fold_pred = model.predict(x_val)\n",
    "    res_krr.loc[te, train_targets.columns] += fold_pred\n",
    "    fold_score = log_loss_metric(train_targets.loc[te].values, fold_pred)\n",
    "    print(f'[{str(datetime.timedelta(seconds = time() - start_time))[2:7]}] KRR: Fold {n}:', fold_score)"
   ]
  },
  {
   "cell_type": "code",
   "execution_count": 13,
   "metadata": {
    "execution": {
     "iopub.execute_input": "2020-12-13T06:27:44.727127Z",
     "iopub.status.busy": "2020-12-13T06:27:44.726158Z",
     "iopub.status.idle": "2020-12-13T06:27:44.964583Z",
     "shell.execute_reply": "2020-12-13T06:27:44.965376Z"
    },
    "id": "dgIrzdQZvgTC",
    "outputId": "a2ab66fb-1783-45aa-b1ef-6a6f719dce6a",
    "papermill": {
     "duration": 0.264552,
     "end_time": "2020-12-13T06:27:44.965553",
     "exception": false,
     "start_time": "2020-12-13T06:27:44.701001",
     "status": "completed"
    },
    "tags": []
   },
   "outputs": [
    {
     "name": "stdout",
     "output_type": "stream",
     "text": [
      "Model OOF Metric: 0.04157830500657903\n"
     ]
    }
   ],
   "source": [
    "print(f'Model OOF Metric: {log_loss_metric(train_targets.values, res_krr.values)}')"
   ]
  },
  {
   "cell_type": "markdown",
   "metadata": {
    "papermill": {
     "duration": 0.022915,
     "end_time": "2020-12-13T06:27:45.010392",
     "exception": false,
     "start_time": "2020-12-13T06:27:44.987477",
     "status": "completed"
    },
    "tags": []
   },
   "source": [
    "# Platt Scaling\n",
    "\n",
    "Train a Logistic Regression model to calibrate the results of Kernel Ridge Regression."
   ]
  },
  {
   "cell_type": "code",
   "execution_count": 14,
   "metadata": {
    "execution": {
     "iopub.execute_input": "2020-12-13T06:27:45.075944Z",
     "iopub.status.busy": "2020-12-13T06:27:45.074119Z",
     "iopub.status.idle": "2020-12-13T06:27:45.076614Z",
     "shell.execute_reply": "2020-12-13T06:27:45.077094Z"
    },
    "papermill": {
     "duration": 0.0454,
     "end_time": "2020-12-13T06:27:45.077217",
     "exception": false,
     "start_time": "2020-12-13T06:27:45.031817",
     "status": "completed"
    },
    "tags": []
   },
   "outputs": [],
   "source": [
    "X_new = res_krr[cols].values\n",
    "x_tt_new = ss_krr[cols].values"
   ]
  },
  {
   "cell_type": "code",
   "execution_count": 15,
   "metadata": {
    "execution": {
     "iopub.execute_input": "2020-12-13T06:27:45.134661Z",
     "iopub.status.busy": "2020-12-13T06:27:45.133397Z",
     "iopub.status.idle": "2020-12-13T06:28:34.574773Z",
     "shell.execute_reply": "2020-12-13T06:28:34.571554Z"
    },
    "papermill": {
     "duration": 49.476279,
     "end_time": "2020-12-13T06:28:34.574972",
     "exception": false,
     "start_time": "2020-12-13T06:27:45.098693",
     "status": "completed"
    },
    "tags": []
   },
   "outputs": [
    {
     "data": {
      "application/vnd.jupyter.widget-view+json": {
       "model_id": "d688fb669c264b5885ed3f0dcfb616f3",
       "version_major": 2,
       "version_minor": 0
      },
      "text/plain": [
       "HBox(children=(FloatProgress(value=0.0, max=206.0), HTML(value='')))"
      ]
     },
     "metadata": {},
     "output_type": "display_data"
    },
    {
     "name": "stdout",
     "output_type": "stream",
     "text": [
      "\n"
     ]
    }
   ],
   "source": [
    "res_lr = train_targets.copy()\n",
    "ss_lr.loc[:, train_targets.columns] = 0\n",
    "res_lr.loc[:, train_targets.columns] = 0\n",
    "\n",
    "for tar in tqdm(range(train_targets.shape[1])):\n",
    "\n",
    "#     start_time = time()\n",
    "    targets = train_targets.values[:, tar]\n",
    "\n",
    "    if targets.sum() >= N_SPLITS:\n",
    "\n",
    "        skf = StratifiedKFold(n_splits = N_SPLITS, random_state = 0, shuffle = True)\n",
    "\n",
    "        for n, (tr, te) in enumerate(skf.split(targets, targets)):\n",
    "\n",
    "            x_tr, x_val = X_new[tr, tar].reshape(-1, 1), X_new[te, tar].reshape(-1, 1)\n",
    "            y_tr, y_val = targets[tr], targets[te]\n",
    "\n",
    "            model = LogisticRegression(penalty = 'none', max_iter = 2000)\n",
    "            model.fit(x_tr, y_tr)\n",
    "            ss_lr.loc[:, train_targets.columns[tar]] += model.predict_proba(x_tt_new[:, tar].reshape(-1, 1))[:, 1] / N_SPLITS\n",
    "            res_lr.loc[te, train_targets.columns[tar]] += model.predict_proba(x_val)[:, 1]\n",
    "\n",
    "    score = log_loss(train_targets.loc[:, train_targets.columns[tar]].values, res_lr.loc[:, train_targets.columns[tar]].values)\n",
    "#     print(f'[{str(datetime.timedelta(seconds = time() - start_time))[2:7]}] LR Target {tar}:', score)"
   ]
  },
  {
   "cell_type": "code",
   "execution_count": 16,
   "metadata": {
    "execution": {
     "iopub.execute_input": "2020-12-13T06:28:34.648829Z",
     "iopub.status.busy": "2020-12-13T06:28:34.647977Z",
     "iopub.status.idle": "2020-12-13T06:28:35.008264Z",
     "shell.execute_reply": "2020-12-13T06:28:35.009498Z"
    },
    "papermill": {
     "duration": 0.402164,
     "end_time": "2020-12-13T06:28:35.009709",
     "exception": false,
     "start_time": "2020-12-13T06:28:34.607545",
     "status": "completed"
    },
    "tags": []
   },
   "outputs": [
    {
     "name": "stdout",
     "output_type": "stream",
     "text": [
      "LR OOF Metric: 0.017645709122293074\n"
     ]
    }
   ],
   "source": [
    "print(f'LR OOF Metric: {log_loss_metric(train_targets.values, res_lr.values)}')"
   ]
  },
  {
   "cell_type": "code",
   "execution_count": 17,
   "metadata": {
    "execution": {
     "iopub.execute_input": "2020-12-13T06:28:35.090749Z",
     "iopub.status.busy": "2020-12-13T06:28:35.089936Z",
     "iopub.status.idle": "2020-12-13T06:28:35.150880Z",
     "shell.execute_reply": "2020-12-13T06:28:35.152051Z"
    },
    "papermill": {
     "duration": 0.108759,
     "end_time": "2020-12-13T06:28:35.152234",
     "exception": false,
     "start_time": "2020-12-13T06:28:35.043475",
     "status": "completed"
    },
    "tags": []
   },
   "outputs": [],
   "source": [
    "np.save('klr_oof.npy', res_lr[cols].values)\n",
    "np.save('klr_sub.npy', ss_lr[cols].values)"
   ]
  },
  {
   "cell_type": "markdown",
   "metadata": {
    "id": "4i2yuxNCvgTV",
    "papermill": {
     "duration": 0.031213,
     "end_time": "2020-12-13T06:28:35.216996",
     "exception": false,
     "start_time": "2020-12-13T06:28:35.185783",
     "status": "completed"
    },
    "tags": []
   },
   "source": [
    "# Submit"
   ]
  },
  {
   "cell_type": "code",
   "execution_count": 18,
   "metadata": {
    "execution": {
     "iopub.execute_input": "2020-12-13T06:28:35.296668Z",
     "iopub.status.busy": "2020-12-13T06:28:35.295878Z",
     "iopub.status.idle": "2020-12-13T06:28:37.551966Z",
     "shell.execute_reply": "2020-12-13T06:28:37.550821Z"
    },
    "papermill": {
     "duration": 2.302959,
     "end_time": "2020-12-13T06:28:37.552087",
     "exception": false,
     "start_time": "2020-12-13T06:28:35.249128",
     "status": "completed"
    },
    "tags": []
   },
   "outputs": [],
   "source": [
    "ss_lr.loc[test['cp_type'] == 1, train_targets.columns] = 0\n",
    "ss_lr.to_csv('submission.csv', index = False)"
   ]
  }
 ],
 "metadata": {
  "kernelspec": {
   "display_name": "Python 3",
   "language": "python",
   "name": "python3"
  },
  "language_info": {
   "codemirror_mode": {
    "name": "ipython",
    "version": 3
   },
   "file_extension": ".py",
   "mimetype": "text/x-python",
   "name": "python",
   "nbconvert_exporter": "python",
   "pygments_lexer": "ipython3",
   "version": "3.7.6"
  },
  "papermill": {
   "duration": 421.527052,
   "end_time": "2020-12-13T06:28:37.681538",
   "environment_variables": {},
   "exception": null,
   "input_path": "__notebook__.ipynb",
   "output_path": "__notebook__.ipynb",
   "parameters": {},
   "start_time": "2020-12-13T06:21:36.154486",
   "version": "2.1.0"
  },
  "widgets": {
   "application/vnd.jupyter.widget-state+json": {
    "state": {
     "19d40728c7b741bf976cb5d643ba6207": {
      "model_module": "@jupyter-widgets/controls",
      "model_module_version": "1.5.0",
      "model_name": "FloatProgressModel",
      "state": {
       "_dom_classes": [],
       "_model_module": "@jupyter-widgets/controls",
       "_model_module_version": "1.5.0",
       "_model_name": "FloatProgressModel",
       "_view_count": null,
       "_view_module": "@jupyter-widgets/controls",
       "_view_module_version": "1.5.0",
       "_view_name": "ProgressView",
       "bar_style": "success",
       "description": "100%",
       "description_tooltip": null,
       "layout": "IPY_MODEL_84d9fb1211c24e2cb18ea6c776c6f9e9",
       "max": 206,
       "min": 0,
       "orientation": "horizontal",
       "style": "IPY_MODEL_b8dcd96d4e684dd194c906d3a2ebc6a4",
       "value": 206
      }
     },
     "5caa962350a547f3844d704aa075bec8": {
      "model_module": "@jupyter-widgets/controls",
      "model_module_version": "1.5.0",
      "model_name": "DescriptionStyleModel",
      "state": {
       "_model_module": "@jupyter-widgets/controls",
       "_model_module_version": "1.5.0",
       "_model_name": "DescriptionStyleModel",
       "_view_count": null,
       "_view_module": "@jupyter-widgets/base",
       "_view_module_version": "1.2.0",
       "_view_name": "StyleView",
       "description_width": ""
      }
     },
     "84d9fb1211c24e2cb18ea6c776c6f9e9": {
      "model_module": "@jupyter-widgets/base",
      "model_module_version": "1.2.0",
      "model_name": "LayoutModel",
      "state": {
       "_model_module": "@jupyter-widgets/base",
       "_model_module_version": "1.2.0",
       "_model_name": "LayoutModel",
       "_view_count": null,
       "_view_module": "@jupyter-widgets/base",
       "_view_module_version": "1.2.0",
       "_view_name": "LayoutView",
       "align_content": null,
       "align_items": null,
       "align_self": null,
       "border": null,
       "bottom": null,
       "display": null,
       "flex": null,
       "flex_flow": null,
       "grid_area": null,
       "grid_auto_columns": null,
       "grid_auto_flow": null,
       "grid_auto_rows": null,
       "grid_column": null,
       "grid_gap": null,
       "grid_row": null,
       "grid_template_areas": null,
       "grid_template_columns": null,
       "grid_template_rows": null,
       "height": null,
       "justify_content": null,
       "justify_items": null,
       "left": null,
       "margin": null,
       "max_height": null,
       "max_width": null,
       "min_height": null,
       "min_width": null,
       "object_fit": null,
       "object_position": null,
       "order": null,
       "overflow": null,
       "overflow_x": null,
       "overflow_y": null,
       "padding": null,
       "right": null,
       "top": null,
       "visibility": null,
       "width": null
      }
     },
     "8be32e21033e4a1bbe8e3004b1bfd0d6": {
      "model_module": "@jupyter-widgets/controls",
      "model_module_version": "1.5.0",
      "model_name": "HTMLModel",
      "state": {
       "_dom_classes": [],
       "_model_module": "@jupyter-widgets/controls",
       "_model_module_version": "1.5.0",
       "_model_name": "HTMLModel",
       "_view_count": null,
       "_view_module": "@jupyter-widgets/controls",
       "_view_module_version": "1.5.0",
       "_view_name": "HTMLView",
       "description": "",
       "description_tooltip": null,
       "layout": "IPY_MODEL_fd5b1a73a5f047e59c8736a4c4d88aa1",
       "placeholder": "​",
       "style": "IPY_MODEL_5caa962350a547f3844d704aa075bec8",
       "value": " 206/206 [00:50&lt;00:00,  4.10it/s]"
      }
     },
     "b8dcd96d4e684dd194c906d3a2ebc6a4": {
      "model_module": "@jupyter-widgets/controls",
      "model_module_version": "1.5.0",
      "model_name": "ProgressStyleModel",
      "state": {
       "_model_module": "@jupyter-widgets/controls",
       "_model_module_version": "1.5.0",
       "_model_name": "ProgressStyleModel",
       "_view_count": null,
       "_view_module": "@jupyter-widgets/base",
       "_view_module_version": "1.2.0",
       "_view_name": "StyleView",
       "bar_color": null,
       "description_width": "initial"
      }
     },
     "d688fb669c264b5885ed3f0dcfb616f3": {
      "model_module": "@jupyter-widgets/controls",
      "model_module_version": "1.5.0",
      "model_name": "HBoxModel",
      "state": {
       "_dom_classes": [],
       "_model_module": "@jupyter-widgets/controls",
       "_model_module_version": "1.5.0",
       "_model_name": "HBoxModel",
       "_view_count": null,
       "_view_module": "@jupyter-widgets/controls",
       "_view_module_version": "1.5.0",
       "_view_name": "HBoxView",
       "box_style": "",
       "children": [
        "IPY_MODEL_19d40728c7b741bf976cb5d643ba6207",
        "IPY_MODEL_8be32e21033e4a1bbe8e3004b1bfd0d6"
       ],
       "layout": "IPY_MODEL_e600fac911504609a1c86520c0bfe34f"
      }
     },
     "e600fac911504609a1c86520c0bfe34f": {
      "model_module": "@jupyter-widgets/base",
      "model_module_version": "1.2.0",
      "model_name": "LayoutModel",
      "state": {
       "_model_module": "@jupyter-widgets/base",
       "_model_module_version": "1.2.0",
       "_model_name": "LayoutModel",
       "_view_count": null,
       "_view_module": "@jupyter-widgets/base",
       "_view_module_version": "1.2.0",
       "_view_name": "LayoutView",
       "align_content": null,
       "align_items": null,
       "align_self": null,
       "border": null,
       "bottom": null,
       "display": null,
       "flex": null,
       "flex_flow": null,
       "grid_area": null,
       "grid_auto_columns": null,
       "grid_auto_flow": null,
       "grid_auto_rows": null,
       "grid_column": null,
       "grid_gap": null,
       "grid_row": null,
       "grid_template_areas": null,
       "grid_template_columns": null,
       "grid_template_rows": null,
       "height": null,
       "justify_content": null,
       "justify_items": null,
       "left": null,
       "margin": null,
       "max_height": null,
       "max_width": null,
       "min_height": null,
       "min_width": null,
       "object_fit": null,
       "object_position": null,
       "order": null,
       "overflow": null,
       "overflow_x": null,
       "overflow_y": null,
       "padding": null,
       "right": null,
       "top": null,
       "visibility": null,
       "width": null
      }
     },
     "fd5b1a73a5f047e59c8736a4c4d88aa1": {
      "model_module": "@jupyter-widgets/base",
      "model_module_version": "1.2.0",
      "model_name": "LayoutModel",
      "state": {
       "_model_module": "@jupyter-widgets/base",
       "_model_module_version": "1.2.0",
       "_model_name": "LayoutModel",
       "_view_count": null,
       "_view_module": "@jupyter-widgets/base",
       "_view_module_version": "1.2.0",
       "_view_name": "LayoutView",
       "align_content": null,
       "align_items": null,
       "align_self": null,
       "border": null,
       "bottom": null,
       "display": null,
       "flex": null,
       "flex_flow": null,
       "grid_area": null,
       "grid_auto_columns": null,
       "grid_auto_flow": null,
       "grid_auto_rows": null,
       "grid_column": null,
       "grid_gap": null,
       "grid_row": null,
       "grid_template_areas": null,
       "grid_template_columns": null,
       "grid_template_rows": null,
       "height": null,
       "justify_content": null,
       "justify_items": null,
       "left": null,
       "margin": null,
       "max_height": null,
       "max_width": null,
       "min_height": null,
       "min_width": null,
       "object_fit": null,
       "object_position": null,
       "order": null,
       "overflow": null,
       "overflow_x": null,
       "overflow_y": null,
       "padding": null,
       "right": null,
       "top": null,
       "visibility": null,
       "width": null
      }
     }
    },
    "version_major": 2,
    "version_minor": 0
   }
  }
 },
 "nbformat": 4,
 "nbformat_minor": 4
}
