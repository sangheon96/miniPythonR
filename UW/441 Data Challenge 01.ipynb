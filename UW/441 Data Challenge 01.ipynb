{
 "cells": [
  {
   "cell_type": "markdown",
   "metadata": {},
   "source": [
    "Name: Sang Heon Lee\n",
    "\n",
    "ID: 20581451\n",
    "\n",
    "Uwaterloo ID: sh68lee"
   ]
  },
  {
   "cell_type": "code",
   "execution_count": 1,
   "metadata": {},
   "outputs": [],
   "source": [
    "import matplotlib.pyplot as plt\n",
    "from matplotlib.offsetbox import AnnotationBbox, OffsetImage\n",
    "%matplotlib inline\n",
    "import numpy as np\n",
    "from numpy.linalg import norm\n",
    "from numpy import random\n",
    "import pandas as pd\n",
    "from scipy.stats import uniform, randint\n",
    "\n",
    "#from scipy.stats import uniform, randint\n",
    "from sklearn import svm\n",
    "from sklearn.metrics import auc, accuracy_score, confusion_matrix, mean_squared_error, roc_auc_score\n",
    "from sklearn.model_selection import cross_val_score, GridSearchCV, KFold, RandomizedSearchCV, train_test_split\n",
    "\n",
    "import xgboost as xgb\n",
    "import pickle"
   ]
  },
  {
   "cell_type": "code",
   "execution_count": 3,
   "metadata": {},
   "outputs": [],
   "source": [
    "data_train = pd.read_csv('online_jewellery_shop_train.csv')"
   ]
  },
  {
   "cell_type": "code",
   "execution_count": 4,
   "metadata": {},
   "outputs": [],
   "source": [
    "result_train = data_train.Revenue"
   ]
  },
  {
   "cell_type": "code",
   "execution_count": 5,
   "metadata": {},
   "outputs": [],
   "source": [
    "result_train = result_train.to_frame()"
   ]
  },
  {
   "cell_type": "code",
   "execution_count": 6,
   "metadata": {},
   "outputs": [],
   "source": [
    "data_train = data_train.drop('Revenue', axis=1)"
   ]
  },
  {
   "cell_type": "code",
   "execution_count": 7,
   "metadata": {},
   "outputs": [
    {
     "data": {
      "text/html": [
       "<div>\n",
       "<style scoped>\n",
       "    .dataframe tbody tr th:only-of-type {\n",
       "        vertical-align: middle;\n",
       "    }\n",
       "\n",
       "    .dataframe tbody tr th {\n",
       "        vertical-align: top;\n",
       "    }\n",
       "\n",
       "    .dataframe thead th {\n",
       "        text-align: right;\n",
       "    }\n",
       "</style>\n",
       "<table border=\"1\" class=\"dataframe\">\n",
       "  <thead>\n",
       "    <tr style=\"text-align: right;\">\n",
       "      <th></th>\n",
       "      <th>ID</th>\n",
       "      <th>Administrative</th>\n",
       "      <th>Administrative_Duration</th>\n",
       "      <th>Informational</th>\n",
       "      <th>Informational_Duration</th>\n",
       "      <th>ProductRelated</th>\n",
       "      <th>ProductRelated_Duration</th>\n",
       "      <th>BounceRates</th>\n",
       "      <th>ExitRates</th>\n",
       "      <th>PageValues</th>\n",
       "      <th>SpecialDay</th>\n",
       "      <th>Month</th>\n",
       "      <th>OperatingSystems</th>\n",
       "      <th>Browser</th>\n",
       "      <th>Region</th>\n",
       "      <th>TrafficType</th>\n",
       "      <th>VisitorType</th>\n",
       "      <th>Weekend</th>\n",
       "    </tr>\n",
       "  </thead>\n",
       "  <tbody>\n",
       "    <tr>\n",
       "      <th>0</th>\n",
       "      <td>3935</td>\n",
       "      <td>1.0</td>\n",
       "      <td>50.333333</td>\n",
       "      <td>0.0</td>\n",
       "      <td>0.00</td>\n",
       "      <td>21.0</td>\n",
       "      <td>586.189286</td>\n",
       "      <td>0.000000</td>\n",
       "      <td>0.005556</td>\n",
       "      <td>0.0</td>\n",
       "      <td>0.6</td>\n",
       "      <td>May</td>\n",
       "      <td>1</td>\n",
       "      <td>1</td>\n",
       "      <td>1</td>\n",
       "      <td>2</td>\n",
       "      <td>Returning_Visitor</td>\n",
       "      <td>0</td>\n",
       "    </tr>\n",
       "    <tr>\n",
       "      <th>1</th>\n",
       "      <td>7866</td>\n",
       "      <td>6.0</td>\n",
       "      <td>299.000000</td>\n",
       "      <td>1.0</td>\n",
       "      <td>41.00</td>\n",
       "      <td>36.0</td>\n",
       "      <td>696.402778</td>\n",
       "      <td>0.000000</td>\n",
       "      <td>0.002632</td>\n",
       "      <td>0.0</td>\n",
       "      <td>0.0</td>\n",
       "      <td>May</td>\n",
       "      <td>2</td>\n",
       "      <td>2</td>\n",
       "      <td>2</td>\n",
       "      <td>4</td>\n",
       "      <td>New_Visitor</td>\n",
       "      <td>1</td>\n",
       "    </tr>\n",
       "    <tr>\n",
       "      <th>2</th>\n",
       "      <td>3727</td>\n",
       "      <td>0.0</td>\n",
       "      <td>0.000000</td>\n",
       "      <td>0.0</td>\n",
       "      <td>0.00</td>\n",
       "      <td>19.0</td>\n",
       "      <td>620.033333</td>\n",
       "      <td>0.000000</td>\n",
       "      <td>0.007895</td>\n",
       "      <td>0.0</td>\n",
       "      <td>0.0</td>\n",
       "      <td>Feb</td>\n",
       "      <td>1</td>\n",
       "      <td>1</td>\n",
       "      <td>4</td>\n",
       "      <td>2</td>\n",
       "      <td>Returning_Visitor</td>\n",
       "      <td>0</td>\n",
       "    </tr>\n",
       "    <tr>\n",
       "      <th>3</th>\n",
       "      <td>4454</td>\n",
       "      <td>0.0</td>\n",
       "      <td>0.000000</td>\n",
       "      <td>0.0</td>\n",
       "      <td>0.00</td>\n",
       "      <td>4.0</td>\n",
       "      <td>46.250000</td>\n",
       "      <td>0.050000</td>\n",
       "      <td>0.066667</td>\n",
       "      <td>0.0</td>\n",
       "      <td>0.0</td>\n",
       "      <td>Nov</td>\n",
       "      <td>3</td>\n",
       "      <td>2</td>\n",
       "      <td>6</td>\n",
       "      <td>13</td>\n",
       "      <td>Returning_Visitor</td>\n",
       "      <td>0</td>\n",
       "    </tr>\n",
       "    <tr>\n",
       "      <th>4</th>\n",
       "      <td>6186</td>\n",
       "      <td>0.0</td>\n",
       "      <td>0.000000</td>\n",
       "      <td>0.0</td>\n",
       "      <td>0.00</td>\n",
       "      <td>24.0</td>\n",
       "      <td>671.088653</td>\n",
       "      <td>0.026667</td>\n",
       "      <td>0.036566</td>\n",
       "      <td>0.0</td>\n",
       "      <td>0.0</td>\n",
       "      <td>Nov</td>\n",
       "      <td>1</td>\n",
       "      <td>1</td>\n",
       "      <td>3</td>\n",
       "      <td>2</td>\n",
       "      <td>Returning_Visitor</td>\n",
       "      <td>0</td>\n",
       "    </tr>\n",
       "    <tr>\n",
       "      <th>...</th>\n",
       "      <td>...</td>\n",
       "      <td>...</td>\n",
       "      <td>...</td>\n",
       "      <td>...</td>\n",
       "      <td>...</td>\n",
       "      <td>...</td>\n",
       "      <td>...</td>\n",
       "      <td>...</td>\n",
       "      <td>...</td>\n",
       "      <td>...</td>\n",
       "      <td>...</td>\n",
       "      <td>...</td>\n",
       "      <td>...</td>\n",
       "      <td>...</td>\n",
       "      <td>...</td>\n",
       "      <td>...</td>\n",
       "      <td>...</td>\n",
       "      <td>...</td>\n",
       "    </tr>\n",
       "    <tr>\n",
       "      <th>8625</th>\n",
       "      <td>5935</td>\n",
       "      <td>0.0</td>\n",
       "      <td>0.000000</td>\n",
       "      <td>0.0</td>\n",
       "      <td>0.00</td>\n",
       "      <td>29.0</td>\n",
       "      <td>873.750000</td>\n",
       "      <td>0.000000</td>\n",
       "      <td>0.031034</td>\n",
       "      <td>0.0</td>\n",
       "      <td>0.0</td>\n",
       "      <td>Nov</td>\n",
       "      <td>2</td>\n",
       "      <td>2</td>\n",
       "      <td>5</td>\n",
       "      <td>2</td>\n",
       "      <td>Returning_Visitor</td>\n",
       "      <td>1</td>\n",
       "    </tr>\n",
       "    <tr>\n",
       "      <th>8626</th>\n",
       "      <td>7455</td>\n",
       "      <td>10.0</td>\n",
       "      <td>198.243056</td>\n",
       "      <td>3.0</td>\n",
       "      <td>276.25</td>\n",
       "      <td>151.0</td>\n",
       "      <td>4344.919986</td>\n",
       "      <td>0.002532</td>\n",
       "      <td>0.011966</td>\n",
       "      <td>0.0</td>\n",
       "      <td>0.0</td>\n",
       "      <td>Dec</td>\n",
       "      <td>4</td>\n",
       "      <td>2</td>\n",
       "      <td>4</td>\n",
       "      <td>2</td>\n",
       "      <td>Returning_Visitor</td>\n",
       "      <td>0</td>\n",
       "    </tr>\n",
       "    <tr>\n",
       "      <th>8627</th>\n",
       "      <td>7853</td>\n",
       "      <td>0.0</td>\n",
       "      <td>0.000000</td>\n",
       "      <td>0.0</td>\n",
       "      <td>0.00</td>\n",
       "      <td>7.0</td>\n",
       "      <td>431.533333</td>\n",
       "      <td>0.000000</td>\n",
       "      <td>0.007143</td>\n",
       "      <td>0.0</td>\n",
       "      <td>0.0</td>\n",
       "      <td>Oct</td>\n",
       "      <td>2</td>\n",
       "      <td>2</td>\n",
       "      <td>1</td>\n",
       "      <td>2</td>\n",
       "      <td>Returning_Visitor</td>\n",
       "      <td>0</td>\n",
       "    </tr>\n",
       "    <tr>\n",
       "      <th>8628</th>\n",
       "      <td>7355</td>\n",
       "      <td>2.0</td>\n",
       "      <td>16.000000</td>\n",
       "      <td>0.0</td>\n",
       "      <td>0.00</td>\n",
       "      <td>16.0</td>\n",
       "      <td>381.686508</td>\n",
       "      <td>0.011765</td>\n",
       "      <td>0.046569</td>\n",
       "      <td>0.0</td>\n",
       "      <td>0.6</td>\n",
       "      <td>Feb</td>\n",
       "      <td>2</td>\n",
       "      <td>4</td>\n",
       "      <td>2</td>\n",
       "      <td>1</td>\n",
       "      <td>Returning_Visitor</td>\n",
       "      <td>0</td>\n",
       "    </tr>\n",
       "    <tr>\n",
       "      <th>8629</th>\n",
       "      <td>8777</td>\n",
       "      <td>0.0</td>\n",
       "      <td>0.000000</td>\n",
       "      <td>0.0</td>\n",
       "      <td>0.00</td>\n",
       "      <td>7.0</td>\n",
       "      <td>297.000000</td>\n",
       "      <td>0.028571</td>\n",
       "      <td>0.071429</td>\n",
       "      <td>0.0</td>\n",
       "      <td>0.8</td>\n",
       "      <td>May</td>\n",
       "      <td>1</td>\n",
       "      <td>1</td>\n",
       "      <td>1</td>\n",
       "      <td>1</td>\n",
       "      <td>Returning_Visitor</td>\n",
       "      <td>0</td>\n",
       "    </tr>\n",
       "  </tbody>\n",
       "</table>\n",
       "<p>8630 rows × 18 columns</p>\n",
       "</div>"
      ],
      "text/plain": [
       "        ID  Administrative  Administrative_Duration  Informational  \\\n",
       "0     3935             1.0                50.333333            0.0   \n",
       "1     7866             6.0               299.000000            1.0   \n",
       "2     3727             0.0                 0.000000            0.0   \n",
       "3     4454             0.0                 0.000000            0.0   \n",
       "4     6186             0.0                 0.000000            0.0   \n",
       "...    ...             ...                      ...            ...   \n",
       "8625  5935             0.0                 0.000000            0.0   \n",
       "8626  7455            10.0               198.243056            3.0   \n",
       "8627  7853             0.0                 0.000000            0.0   \n",
       "8628  7355             2.0                16.000000            0.0   \n",
       "8629  8777             0.0                 0.000000            0.0   \n",
       "\n",
       "      Informational_Duration  ProductRelated  ProductRelated_Duration  \\\n",
       "0                       0.00            21.0               586.189286   \n",
       "1                      41.00            36.0               696.402778   \n",
       "2                       0.00            19.0               620.033333   \n",
       "3                       0.00             4.0                46.250000   \n",
       "4                       0.00            24.0               671.088653   \n",
       "...                      ...             ...                      ...   \n",
       "8625                    0.00            29.0               873.750000   \n",
       "8626                  276.25           151.0              4344.919986   \n",
       "8627                    0.00             7.0               431.533333   \n",
       "8628                    0.00            16.0               381.686508   \n",
       "8629                    0.00             7.0               297.000000   \n",
       "\n",
       "      BounceRates  ExitRates  PageValues  SpecialDay Month  OperatingSystems  \\\n",
       "0        0.000000   0.005556         0.0         0.6   May                 1   \n",
       "1        0.000000   0.002632         0.0         0.0   May                 2   \n",
       "2        0.000000   0.007895         0.0         0.0   Feb                 1   \n",
       "3        0.050000   0.066667         0.0         0.0   Nov                 3   \n",
       "4        0.026667   0.036566         0.0         0.0   Nov                 1   \n",
       "...           ...        ...         ...         ...   ...               ...   \n",
       "8625     0.000000   0.031034         0.0         0.0   Nov                 2   \n",
       "8626     0.002532   0.011966         0.0         0.0   Dec                 4   \n",
       "8627     0.000000   0.007143         0.0         0.0   Oct                 2   \n",
       "8628     0.011765   0.046569         0.0         0.6   Feb                 2   \n",
       "8629     0.028571   0.071429         0.0         0.8   May                 1   \n",
       "\n",
       "      Browser  Region  TrafficType        VisitorType  Weekend  \n",
       "0           1       1            2  Returning_Visitor        0  \n",
       "1           2       2            4        New_Visitor        1  \n",
       "2           1       4            2  Returning_Visitor        0  \n",
       "3           2       6           13  Returning_Visitor        0  \n",
       "4           1       3            2  Returning_Visitor        0  \n",
       "...       ...     ...          ...                ...      ...  \n",
       "8625        2       5            2  Returning_Visitor        1  \n",
       "8626        2       4            2  Returning_Visitor        0  \n",
       "8627        2       1            2  Returning_Visitor        0  \n",
       "8628        4       2            1  Returning_Visitor        0  \n",
       "8629        1       1            1  Returning_Visitor        0  \n",
       "\n",
       "[8630 rows x 18 columns]"
      ]
     },
     "execution_count": 7,
     "metadata": {},
     "output_type": "execute_result"
    }
   ],
   "source": [
    "data_train"
   ]
  },
  {
   "cell_type": "code",
   "execution_count": 8,
   "metadata": {},
   "outputs": [],
   "source": [
    "data_test = pd.read_csv('online_jewellery_shop_test_final.csv')"
   ]
  },
  {
   "cell_type": "code",
   "execution_count": 9,
   "metadata": {},
   "outputs": [],
   "source": [
    "# Data cleaning of Object types to categorial data\n",
    "data_train['VisitorType'] = data_train['VisitorType'].replace({'Returning_Visitor': 1, 'New_Visitor': 0, 'Other': 2})"
   ]
  },
  {
   "cell_type": "code",
   "execution_count": 10,
   "metadata": {},
   "outputs": [],
   "source": [
    "# Data cleaning of Object types to categorical data\n",
    "data_train['Month'] = data_train['Month'].replace({'Jan': 1, 'Feb': 2, 'Mar': 3, 'May': 5, 'June': 6, 'Jul': 7, 'Aug': 8, 'Sep': 9, 'Oct': 10, 'Nov': 11, 'Dec': 12})"
   ]
  },
  {
   "cell_type": "code",
   "execution_count": 11,
   "metadata": {},
   "outputs": [],
   "source": [
    "# Cleaning of test data\n",
    "data_test['VisitorType'] = data_test['VisitorType'].replace({'Returning_Visitor': 1, 'New_Visitor': 0, 'Other': 2})"
   ]
  },
  {
   "cell_type": "code",
   "execution_count": 12,
   "metadata": {},
   "outputs": [],
   "source": [
    "# Cleaning of test data\n",
    "data_test['Month'] = data_test['Month'].replace({'Jan': 1, 'Feb': 2, 'Mar': 3, 'May': 5, 'June': 6, 'Jul': 7, 'Aug': 8, 'Sep': 9, 'Oct': 10, 'Nov': 11, 'Dec': 12})"
   ]
  },
  {
   "cell_type": "markdown",
   "metadata": {},
   "source": [
    "___"
   ]
  },
  {
   "cell_type": "markdown",
   "metadata": {},
   "source": [
    "Basic XGB Classifier with no specified hyperparameter"
   ]
  },
  {
   "cell_type": "code",
   "execution_count": 13,
   "metadata": {},
   "outputs": [],
   "source": [
    "xgb_model = xgb.XGBClassifier(objective=\"binary:logistic\")"
   ]
  },
  {
   "cell_type": "code",
   "execution_count": 14,
   "metadata": {},
   "outputs": [
    {
     "data": {
      "text/plain": [
       "XGBClassifier(base_score=0.5, booster='gbtree', colsample_bylevel=1,\n",
       "              colsample_bynode=1, colsample_bytree=1, gamma=0, gpu_id=-1,\n",
       "              importance_type='gain', interaction_constraints='',\n",
       "              learning_rate=0.300000012, max_delta_step=0, max_depth=6,\n",
       "              min_child_weight=1, missing=nan, monotone_constraints='()',\n",
       "              n_estimators=100, n_jobs=0, num_parallel_tree=1, random_state=0,\n",
       "              reg_alpha=0, reg_lambda=1, scale_pos_weight=1, subsample=1,\n",
       "              tree_method='exact', validate_parameters=1, verbosity=None)"
      ]
     },
     "execution_count": 14,
     "metadata": {},
     "output_type": "execute_result"
    }
   ],
   "source": [
    "xgb_model.fit(data_train, result_train.values.ravel())"
   ]
  },
  {
   "cell_type": "code",
   "execution_count": 15,
   "metadata": {
    "scrolled": true
   },
   "outputs": [],
   "source": [
    "y_pred = xgb_model.predict_proba(data_test)"
   ]
  },
  {
   "cell_type": "code",
   "execution_count": 17,
   "metadata": {},
   "outputs": [],
   "source": [
    "# function which outputs ID, Revenue predictions to csv\n",
    "\n",
    "def makeResultCSV(ypred, i):\n",
    "    y_pred_df = pd.DataFrame(ypred[:,1])\n",
    "    y_pred_df.columns = ['Revenue']\n",
    "    resultID = data_test.ID.to_frame()\n",
    "    result = pd.concat([resultID, y_pred_df], join = 'outer', axis = 1) \n",
    "    return pd.DataFrame(result).to_csv(\"result\" + str(i) + \".csv\", index=False)"
   ]
  },
  {
   "cell_type": "raw",
   "metadata": {},
   "source": [
    "makeResultCSV(y_pred, 1)"
   ]
  },
  {
   "cell_type": "markdown",
   "metadata": {},
   "source": [
    "___"
   ]
  },
  {
   "cell_type": "markdown",
   "metadata": {},
   "source": [
    "Define XGB Classifier and use train_test_split to split train data to train and test data"
   ]
  },
  {
   "cell_type": "code",
   "execution_count": 18,
   "metadata": {},
   "outputs": [],
   "source": [
    "xgb_model = xgb.XGBClassifier(objective=\"binary:logistic\", random_state=42, eval_metric=[\"auc\", \"error\"])"
   ]
  },
  {
   "cell_type": "code",
   "execution_count": 19,
   "metadata": {},
   "outputs": [],
   "source": [
    "X_train, X_test, y_train, y_test = train_test_split(data_train, result_train, random_state=42)"
   ]
  },
  {
   "cell_type": "code",
   "execution_count": 20,
   "metadata": {},
   "outputs": [
    {
     "name": "stdout",
     "output_type": "stream",
     "text": [
      "[0]\tvalidation_0-auc:0.91327\tvalidation_0-error:0.11029\n",
      "[1]\tvalidation_0-auc:0.92240\tvalidation_0-error:0.09731\n",
      "[2]\tvalidation_0-auc:0.92701\tvalidation_0-error:0.09639\n",
      "[3]\tvalidation_0-auc:0.92663\tvalidation_0-error:0.09870\n",
      "[4]\tvalidation_0-auc:0.92697\tvalidation_0-error:0.10241\n",
      "[5]\tvalidation_0-auc:0.92725\tvalidation_0-error:0.09546\n",
      "[6]\tvalidation_0-auc:0.92876\tvalidation_0-error:0.09824\n",
      "[7]\tvalidation_0-auc:0.92769\tvalidation_0-error:0.09917\n",
      "[8]\tvalidation_0-auc:0.92824\tvalidation_0-error:0.09778\n",
      "[9]\tvalidation_0-auc:0.92878\tvalidation_0-error:0.09685\n",
      "[10]\tvalidation_0-auc:0.92844\tvalidation_0-error:0.09917\n",
      "[11]\tvalidation_0-auc:0.92764\tvalidation_0-error:0.09731\n",
      "[12]\tvalidation_0-auc:0.92675\tvalidation_0-error:0.09731\n",
      "[13]\tvalidation_0-auc:0.92759\tvalidation_0-error:0.09824\n",
      "[14]\tvalidation_0-auc:0.92722\tvalidation_0-error:0.09917\n",
      "[15]\tvalidation_0-auc:0.92678\tvalidation_0-error:0.10148\n",
      "[16]\tvalidation_0-auc:0.92769\tvalidation_0-error:0.10009\n",
      "[17]\tvalidation_0-auc:0.92738\tvalidation_0-error:0.10009\n",
      "[18]\tvalidation_0-auc:0.92791\tvalidation_0-error:0.10102\n",
      "[19]\tvalidation_0-auc:0.92838\tvalidation_0-error:0.09963\n",
      "[20]\tvalidation_0-auc:0.92794\tvalidation_0-error:0.09824\n",
      "[21]\tvalidation_0-auc:0.92768\tvalidation_0-error:0.09963\n",
      "[22]\tvalidation_0-auc:0.92657\tvalidation_0-error:0.10287\n",
      "[23]\tvalidation_0-auc:0.92696\tvalidation_0-error:0.10009\n",
      "[24]\tvalidation_0-auc:0.92719\tvalidation_0-error:0.10056\n",
      "[25]\tvalidation_0-auc:0.92727\tvalidation_0-error:0.10287\n",
      "[26]\tvalidation_0-auc:0.92717\tvalidation_0-error:0.10334\n",
      "[27]\tvalidation_0-auc:0.92653\tvalidation_0-error:0.10473\n",
      "[28]\tvalidation_0-auc:0.92671\tvalidation_0-error:0.10241\n",
      "[29]\tvalidation_0-auc:0.92651\tvalidation_0-error:0.10287\n",
      "[30]\tvalidation_0-auc:0.92636\tvalidation_0-error:0.10380\n",
      "[31]\tvalidation_0-auc:0.92624\tvalidation_0-error:0.10148\n",
      "[32]\tvalidation_0-auc:0.92617\tvalidation_0-error:0.10148\n"
     ]
    },
    {
     "name": "stderr",
     "output_type": "stream",
     "text": [
      "C:\\Users\\sangh\\anaconda3\\lib\\site-packages\\sklearn\\utils\\validation.py:73: DataConversionWarning: A column-vector y was passed when a 1d array was expected. Please change the shape of y to (n_samples, ), for example using ravel().\n",
      "  return f(**kwargs)\n"
     ]
    },
    {
     "name": "stdout",
     "output_type": "stream",
     "text": [
      "[33]\tvalidation_0-auc:0.92715\tvalidation_0-error:0.10287\n",
      "[34]\tvalidation_0-auc:0.92743\tvalidation_0-error:0.10241\n",
      "[35]\tvalidation_0-auc:0.92709\tvalidation_0-error:0.10658\n",
      "[36]\tvalidation_0-auc:0.92698\tvalidation_0-error:0.10565\n",
      "[37]\tvalidation_0-auc:0.92707\tvalidation_0-error:0.10241\n",
      "[38]\tvalidation_0-auc:0.92682\tvalidation_0-error:0.10241\n",
      "[39]\tvalidation_0-auc:0.92652\tvalidation_0-error:0.10241\n",
      "[40]\tvalidation_0-auc:0.92659\tvalidation_0-error:0.10195\n",
      "[41]\tvalidation_0-auc:0.92603\tvalidation_0-error:0.10334\n",
      "[42]\tvalidation_0-auc:0.92602\tvalidation_0-error:0.10241\n",
      "[43]\tvalidation_0-auc:0.92611\tvalidation_0-error:0.10195\n",
      "[44]\tvalidation_0-auc:0.92580\tvalidation_0-error:0.09963\n",
      "[45]\tvalidation_0-auc:0.92620\tvalidation_0-error:0.10241\n",
      "[46]\tvalidation_0-auc:0.92621\tvalidation_0-error:0.10195\n",
      "[47]\tvalidation_0-auc:0.92586\tvalidation_0-error:0.10102\n",
      "[48]\tvalidation_0-auc:0.92618\tvalidation_0-error:0.10148\n",
      "[49]\tvalidation_0-auc:0.92640\tvalidation_0-error:0.10241\n",
      "[50]\tvalidation_0-auc:0.92562\tvalidation_0-error:0.10241\n",
      "[51]\tvalidation_0-auc:0.92527\tvalidation_0-error:0.10287\n",
      "[52]\tvalidation_0-auc:0.92506\tvalidation_0-error:0.10334\n",
      "[53]\tvalidation_0-auc:0.92493\tvalidation_0-error:0.10380\n",
      "[54]\tvalidation_0-auc:0.92476\tvalidation_0-error:0.10426\n",
      "[55]\tvalidation_0-auc:0.92483\tvalidation_0-error:0.10287\n",
      "[56]\tvalidation_0-auc:0.92435\tvalidation_0-error:0.10380\n",
      "[57]\tvalidation_0-auc:0.92436\tvalidation_0-error:0.10380\n",
      "[58]\tvalidation_0-auc:0.92407\tvalidation_0-error:0.10334\n",
      "[59]\tvalidation_0-auc:0.92417\tvalidation_0-error:0.10519\n",
      "[60]\tvalidation_0-auc:0.92387\tvalidation_0-error:0.10380\n",
      "[61]\tvalidation_0-auc:0.92400\tvalidation_0-error:0.10519\n",
      "[62]\tvalidation_0-auc:0.92417\tvalidation_0-error:0.10519\n",
      "[63]\tvalidation_0-auc:0.92396\tvalidation_0-error:0.10426\n",
      "[64]\tvalidation_0-auc:0.92375\tvalidation_0-error:0.10519\n",
      "[65]\tvalidation_0-auc:0.92429\tvalidation_0-error:0.10473\n",
      "[66]\tvalidation_0-auc:0.92382\tvalidation_0-error:0.10426\n",
      "[67]\tvalidation_0-auc:0.92451\tvalidation_0-error:0.10473\n",
      "[68]\tvalidation_0-auc:0.92412\tvalidation_0-error:0.10426\n",
      "[69]\tvalidation_0-auc:0.92357\tvalidation_0-error:0.10426\n",
      "[70]\tvalidation_0-auc:0.92348\tvalidation_0-error:0.10519\n",
      "[71]\tvalidation_0-auc:0.92321\tvalidation_0-error:0.10519\n",
      "[72]\tvalidation_0-auc:0.92273\tvalidation_0-error:0.10565\n",
      "[73]\tvalidation_0-auc:0.92333\tvalidation_0-error:0.10565\n",
      "[74]\tvalidation_0-auc:0.92258\tvalidation_0-error:0.10704\n",
      "[75]\tvalidation_0-auc:0.92277\tvalidation_0-error:0.10565\n",
      "[76]\tvalidation_0-auc:0.92277\tvalidation_0-error:0.10612\n",
      "[77]\tvalidation_0-auc:0.92262\tvalidation_0-error:0.10612\n",
      "[78]\tvalidation_0-auc:0.92261\tvalidation_0-error:0.10612\n",
      "[79]\tvalidation_0-auc:0.92256\tvalidation_0-error:0.10658\n",
      "[80]\tvalidation_0-auc:0.92252\tvalidation_0-error:0.10612\n",
      "[81]\tvalidation_0-auc:0.92241\tvalidation_0-error:0.10612\n",
      "[82]\tvalidation_0-auc:0.92234\tvalidation_0-error:0.10612\n",
      "[83]\tvalidation_0-auc:0.92232\tvalidation_0-error:0.10658\n",
      "[84]\tvalidation_0-auc:0.92302\tvalidation_0-error:0.10843\n",
      "[85]\tvalidation_0-auc:0.92256\tvalidation_0-error:0.10797\n",
      "[86]\tvalidation_0-auc:0.92267\tvalidation_0-error:0.10751\n",
      "[87]\tvalidation_0-auc:0.92270\tvalidation_0-error:0.10751\n",
      "[88]\tvalidation_0-auc:0.92269\tvalidation_0-error:0.10797\n",
      "[89]\tvalidation_0-auc:0.92270\tvalidation_0-error:0.10704\n",
      "[90]\tvalidation_0-auc:0.92258\tvalidation_0-error:0.10658\n",
      "[91]\tvalidation_0-auc:0.92229\tvalidation_0-error:0.10658\n",
      "[92]\tvalidation_0-auc:0.92287\tvalidation_0-error:0.10565\n",
      "[93]\tvalidation_0-auc:0.92274\tvalidation_0-error:0.10565\n",
      "[94]\tvalidation_0-auc:0.92287\tvalidation_0-error:0.10473\n",
      "[95]\tvalidation_0-auc:0.92273\tvalidation_0-error:0.10658\n",
      "[96]\tvalidation_0-auc:0.92262\tvalidation_0-error:0.10658\n",
      "[97]\tvalidation_0-auc:0.92274\tvalidation_0-error:0.10519\n",
      "[98]\tvalidation_0-auc:0.92238\tvalidation_0-error:0.10473\n",
      "[99]\tvalidation_0-auc:0.92273\tvalidation_0-error:0.10519\n"
     ]
    },
    {
     "data": {
      "text/plain": [
       "XGBClassifier(base_score=0.5, booster='gbtree', colsample_bylevel=1,\n",
       "              colsample_bynode=1, colsample_bytree=1,\n",
       "              eval_metric=['auc', 'error'], gamma=0, gpu_id=-1,\n",
       "              importance_type='gain', interaction_constraints='',\n",
       "              learning_rate=0.300000012, max_delta_step=0, max_depth=6,\n",
       "              min_child_weight=1, missing=nan, monotone_constraints='()',\n",
       "              n_estimators=100, n_jobs=0, num_parallel_tree=1, random_state=42,\n",
       "              reg_alpha=0, reg_lambda=1, scale_pos_weight=1, subsample=1,\n",
       "              tree_method='exact', validate_parameters=1, verbosity=None)"
      ]
     },
     "execution_count": 20,
     "metadata": {},
     "output_type": "execute_result"
    }
   ],
   "source": [
    "xgb_model.fit(X_train, y_train, eval_set=[(X_test, y_test)])"
   ]
  },
  {
   "cell_type": "code",
   "execution_count": 23,
   "metadata": {},
   "outputs": [
    {
     "data": {
      "text/plain": [
       "0.7674559218135734"
      ]
     },
     "execution_count": 23,
     "metadata": {},
     "output_type": "execute_result"
    }
   ],
   "source": [
    "y_pred_proba = xgb_model.predict_proba(data_test)\n",
    "y_pred = xgb_model.predict(X_test)\n",
    "\n",
    "roc_auc_score(y_test, y_pred)"
   ]
  },
  {
   "cell_type": "code",
   "execution_count": 24,
   "metadata": {},
   "outputs": [
    {
     "data": {
      "text/plain": [
       "0.8948100092678406"
      ]
     },
     "execution_count": 24,
     "metadata": {},
     "output_type": "execute_result"
    }
   ],
   "source": [
    "accuracy_score(y_test, y_pred)"
   ]
  },
  {
   "cell_type": "code",
   "execution_count": 22,
   "metadata": {},
   "outputs": [],
   "source": [
    "makeResultCSV(y_pred_proba, 2)"
   ]
  },
  {
   "cell_type": "markdown",
   "metadata": {},
   "source": [
    "___"
   ]
  },
  {
   "cell_type": "markdown",
   "metadata": {},
   "source": [
    "Hyperparameter searching with RandomizedSearchCV"
   ]
  },
  {
   "cell_type": "code",
   "execution_count": 70,
   "metadata": {},
   "outputs": [],
   "source": [
    "def report_best_scores(results, n_top=3):\n",
    "    for i in range(1, n_top + 1):\n",
    "        candidates = np.flatnonzero(results['rank_test_score'] == i)\n",
    "        for candidate in candidates:\n",
    "            print(\"Model rank: {0}\".format(i))\n",
    "            print(\"Mean validation score: {0:.3f} (std: {1:.3f})\".format(\n",
    "                  results['mean_test_score'][candidate],\n",
    "                  results['std_test_score'][candidate]))\n",
    "            print(\"Parameters: {0}\".format(results['params'][candidate]))\n",
    "            print(\"\")\n",
    "\n"
   ]
  },
  {
   "cell_type": "code",
   "execution_count": 71,
   "metadata": {},
   "outputs": [],
   "source": [
    "xgb_model = xgb.XGBClassifier(objective=\"binary:logistic\", eval_metric=[\"auc\", \"error\"])\n",
    "\n",
    "params = {\n",
    "    \"colsample_bytree\": uniform(0.7, 0.3),\n",
    "    \"min_child_weight\" : uniform(0, 10),\n",
    "    \"gamma\": uniform(0, 0.5),\n",
    "    \"learning_rate\": uniform(0.03, 0.3), # default 0.1 \n",
    "    \"max_depth\": randint(2, 6), # default 3\n",
    "    \"n_estimators\": randint(100, 170), # default 100\n",
    "    \"subsample\": uniform(0.6, 0.4)\n",
    "}\n",
    "\n",
    "search = RandomizedSearchCV(xgb_model, param_distributions=params, n_iter=300, cv=3, verbose=1, n_jobs=1, return_train_score=True)"
   ]
  },
  {
   "cell_type": "code",
   "execution_count": 72,
   "metadata": {},
   "outputs": [
    {
     "name": "stdout",
     "output_type": "stream",
     "text": [
      "Fitting 3 folds for each of 300 candidates, totalling 900 fits\n"
     ]
    },
    {
     "name": "stderr",
     "output_type": "stream",
     "text": [
      "[Parallel(n_jobs=1)]: Using backend SequentialBackend with 1 concurrent workers.\n",
      "[Parallel(n_jobs=1)]: Done 900 out of 900 | elapsed:  2.7min finished\n"
     ]
    },
    {
     "data": {
      "text/plain": [
       "RandomizedSearchCV(cv=3,\n",
       "                   estimator=XGBClassifier(base_score=None, booster=None,\n",
       "                                           colsample_bylevel=None,\n",
       "                                           colsample_bynode=None,\n",
       "                                           colsample_bytree=None,\n",
       "                                           eval_metric=['auc', 'error'],\n",
       "                                           gamma=None, gpu_id=None,\n",
       "                                           importance_type='gain',\n",
       "                                           interaction_constraints=None,\n",
       "                                           learning_rate=None,\n",
       "                                           max_delta_step=None, max_depth=None,\n",
       "                                           min_child_weight=None, missing=nan,\n",
       "                                           monotone_constr...\n",
       "                                        'max_depth': <scipy.stats._distn_infrastructure.rv_frozen object at 0x0000016B0536F850>,\n",
       "                                        'min_child_weight': <scipy.stats._distn_infrastructure.rv_frozen object at 0x0000016B0536FBE0>,\n",
       "                                        'n_estimators': <scipy.stats._distn_infrastructure.rv_frozen object at 0x0000016B0536F1C0>,\n",
       "                                        'subsample': <scipy.stats._distn_infrastructure.rv_frozen object at 0x0000016B0536F940>},\n",
       "                   return_train_score=True, verbose=1)"
      ]
     },
     "execution_count": 72,
     "metadata": {},
     "output_type": "execute_result"
    }
   ],
   "source": [
    "search.fit(data_train, result_train.values.ravel())"
   ]
  },
  {
   "cell_type": "code",
   "execution_count": 73,
   "metadata": {},
   "outputs": [
    {
     "name": "stdout",
     "output_type": "stream",
     "text": [
      "Model rank: 1\n",
      "Mean validation score: 0.906 (std: 0.005)\n",
      "Parameters: {'colsample_bytree': 0.8253661600623214, 'gamma': 0.3785096648408872, 'learning_rate': 0.051225222929687335, 'max_depth': 4, 'min_child_weight': 7.265118855950864, 'n_estimators': 125, 'subsample': 0.6855386943772857}\n",
      "\n",
      "Model rank: 2\n",
      "Mean validation score: 0.905 (std: 0.005)\n",
      "Parameters: {'colsample_bytree': 0.8344553414554907, 'gamma': 0.4062120639203169, 'learning_rate': 0.04272015964853329, 'max_depth': 4, 'min_child_weight': 8.270600691923416, 'n_estimators': 133, 'subsample': 0.8198334353372777}\n",
      "\n",
      "Model rank: 3\n",
      "Mean validation score: 0.905 (std: 0.005)\n",
      "Parameters: {'colsample_bytree': 0.7718944117410991, 'gamma': 0.3480690794486958, 'learning_rate': 0.11250845882446112, 'max_depth': 2, 'min_child_weight': 9.685220114763467, 'n_estimators': 112, 'subsample': 0.7816185350583484}\n",
      "\n"
     ]
    }
   ],
   "source": [
    "report_best_scores(search.cv_results_, 3)"
   ]
  },
  {
   "cell_type": "code",
   "execution_count": 74,
   "metadata": {},
   "outputs": [],
   "source": [
    "#result3 params\n",
    "params1 = {\n",
    "    \"objective\": \"binary:logistic\",\n",
    "    \"colsample_bytree\": 0.7498850106268238,\n",
    "    \"gamma\": 0.3690168082131852,\n",
    "    \"learning_rate\": 0.054839600377537934, # default 0.1 \n",
    "    \"max_depth\": 5, # default 3\n",
    "    \"n_estimators\": 125, # default 100\n",
    "    \"subsample\": 0.6272998821416366\n",
    "}"
   ]
  },
  {
   "cell_type": "code",
   "execution_count": 75,
   "metadata": {},
   "outputs": [],
   "source": [
    "#result4 params\n",
    "params2 = {\n",
    "    \"objective\": \"binary:logistic\",\n",
    "    \"colsample_bytree\": 0.757395319248184,\n",
    "    \"gamma\": 0.29039565691054975,\n",
    "    \"learning_rate\": 0.03507706060836941, # default 0.1 \n",
    "    \"max_depth\": 5, # default 3\n",
    "    \"n_estimators\": 121, # default 100\n",
    "    \"subsample\": 0.6078581298315237\n",
    "}"
   ]
  },
  {
   "cell_type": "code",
   "execution_count": 76,
   "metadata": {},
   "outputs": [],
   "source": [
    "#result5 params\n",
    "params3 = {\n",
    "    \"colsample_bytree\": 0.923680288120177,\n",
    "    \"min_child_weight\" : 9.285210309624292,\n",
    "    \"gamma\": 0.09421829851867058,\n",
    "    \"learning_rate\": 0.0702898752019768, # default 0.1 \n",
    "    \"max_depth\": 3, # default 3\n",
    "    \"n_estimators\": 141, # default 100\n",
    "    \"subsample\": 0.6834223814092886\n",
    "}"
   ]
  },
  {
   "cell_type": "code",
   "execution_count": 77,
   "metadata": {},
   "outputs": [],
   "source": [
    "#result6 params ***Gave BEST result***\n",
    "params4 = {\n",
    "    \"colsample_bytree\": 0.9792966574185944,\n",
    "    \"min_child_weight\" : 6.195856405318516,\n",
    "    \"gamma\": 0.27806516445616497,\n",
    "    \"learning_rate\": 0.03932032935375214, # default 0.1 \n",
    "    \"max_depth\": 4, # default 3\n",
    "    \"n_estimators\": 103, # default 100\n",
    "    \"subsample\": 0.6457264492878044\n",
    "}"
   ]
  },
  {
   "cell_type": "code",
   "execution_count": 78,
   "metadata": {},
   "outputs": [],
   "source": [
    "#results7 params\n",
    "params5 = {\n",
    "    \"colsample_bytree\": 0.9342606982013768,\n",
    "    \"min_child_weight\" :6.173642520427691,\n",
    "    \"gamma\": 0.3181897549880853,\n",
    "    \"learning_rate\": 0.05110245551364666, # default 0.1 \n",
    "    \"max_depth\": 4, # default 3\n",
    "    \"n_estimators\": 168, # default 100\n",
    "    \"subsample\": 0.8571126120422332\n",
    "}"
   ]
  },
  {
   "cell_type": "code",
   "execution_count": 79,
   "metadata": {},
   "outputs": [],
   "source": [
    "#results8 params\n",
    "params6 = {\n",
    "    \"colsample_bytree\": 0.9553970221768882,\n",
    "    \"min_child_weight\": 6.835286879856128,\n",
    "    \"gamma\": 0.34660348667718177,\n",
    "    \"learning_rate\": 0.04971643162881245, # default 0.1 \n",
    "    \"max_depth\": 4, # default 3\n",
    "    \"n_estimators\": 188, # default 100\n",
    "    \"subsample\": 0.7828998955388349\n",
    "}"
   ]
  },
  {
   "cell_type": "code",
   "execution_count": 80,
   "metadata": {},
   "outputs": [],
   "source": [
    "#results9 params\n",
    "params7 = {\n",
    "    \"colsample_bytree\": 0.9751124979381287,\n",
    "    \"min_child_weight\": 5.689526844374235,\n",
    "    \"gamma\": 0.40876385784491887,\n",
    "    \"learning_rate\": 0.059280003046457294, # default 0.1 \n",
    "    \"max_depth\": 5, # default 3\n",
    "    \"n_estimators\": 113, # default 100\n",
    "    \"subsample\": 0.7418771995156108\n",
    "}"
   ]
  },
  {
   "cell_type": "markdown",
   "metadata": {},
   "source": [
    "Apply the top hyperparameter to test data"
   ]
  },
  {
   "cell_type": "code",
   "execution_count": 81,
   "metadata": {},
   "outputs": [
    {
     "data": {
      "text/plain": [
       "XGBClassifier(base_score=None, booster=None, colsample_bylevel=None,\n",
       "              colsample_bynode=None, colsample_bytree=0.9792966574185944,\n",
       "              gamma=0.27806516445616497, gpu_id=None, importance_type='gain',\n",
       "              interaction_constraints=None, learning_rate=0.03932032935375214,\n",
       "              max_delta_step=None, max_depth=4,\n",
       "              min_child_weight=6.195856405318516, missing=nan,\n",
       "              monotone_constraints=None, n_estimators=103, n_jobs=None,\n",
       "              num_parallel_tree=None, random_state=None, reg_alpha=None,\n",
       "              reg_lambda=None, scale_pos_weight=None,\n",
       "              subsample=0.6457264492878044, tree_method=None,\n",
       "              validate_parameters=None, verbosity=None)"
      ]
     },
     "execution_count": 81,
     "metadata": {},
     "output_type": "execute_result"
    }
   ],
   "source": [
    "xgb_model = xgb.XGBClassifier()\n",
    "xgb_model.set_params(**params4)"
   ]
  },
  {
   "cell_type": "code",
   "execution_count": 82,
   "metadata": {},
   "outputs": [
    {
     "data": {
      "text/plain": [
       "XGBClassifier(base_score=0.5, booster='gbtree', colsample_bylevel=1,\n",
       "              colsample_bynode=1, colsample_bytree=0.9792966574185944,\n",
       "              gamma=0.27806516445616497, gpu_id=-1, importance_type='gain',\n",
       "              interaction_constraints='', learning_rate=0.03932032935375214,\n",
       "              max_delta_step=0, max_depth=4, min_child_weight=6.195856405318516,\n",
       "              missing=nan, monotone_constraints='()', n_estimators=103,\n",
       "              n_jobs=0, num_parallel_tree=1, random_state=0, reg_alpha=0,\n",
       "              reg_lambda=1, scale_pos_weight=1, subsample=0.6457264492878044,\n",
       "              tree_method='exact', validate_parameters=1, verbosity=None)"
      ]
     },
     "execution_count": 82,
     "metadata": {},
     "output_type": "execute_result"
    }
   ],
   "source": [
    "xgb_model.fit(data_train, result_train.values.ravel())"
   ]
  },
  {
   "cell_type": "code",
   "execution_count": 83,
   "metadata": {},
   "outputs": [],
   "source": [
    "y_pred = xgb_model.predict_proba(data_test)"
   ]
  },
  {
   "cell_type": "code",
   "execution_count": 84,
   "metadata": {},
   "outputs": [],
   "source": [
    "makeResultCSV(y_pred, 10)"
   ]
  },
  {
   "cell_type": "markdown",
   "metadata": {},
   "source": [
    "This method gives the best result"
   ]
  },
  {
   "cell_type": "markdown",
   "metadata": {},
   "source": [
    "___"
   ]
  },
  {
   "cell_type": "markdown",
   "metadata": {},
   "source": [
    "Another method of searching Hyperparameter using GridSearchCV"
   ]
  },
  {
   "cell_type": "code",
   "execution_count": 168,
   "metadata": {},
   "outputs": [
    {
     "name": "stderr",
     "output_type": "stream",
     "text": [
      "C:\\Users\\sangh\\anaconda3\\lib\\site-packages\\sklearn\\utils\\validation.py:73: DataConversionWarning: A column-vector y was passed when a 1d array was expected. Please change the shape of y to (n_samples, ), for example using ravel().\n",
      "  return f(**kwargs)\n"
     ]
    },
    {
     "data": {
      "text/plain": [
       "GridSearchCV(cv=3,\n",
       "             estimator=XGBClassifier(base_score=None, booster=None,\n",
       "                                     colsample_bylevel=None,\n",
       "                                     colsample_bynode=None,\n",
       "                                     colsample_bytree=None, gamma=None,\n",
       "                                     gpu_id=None, importance_type='gain',\n",
       "                                     interaction_constraints=None,\n",
       "                                     learning_rate=None, max_delta_step=None,\n",
       "                                     max_depth=None, min_child_weight=None,\n",
       "                                     missing=nan, monotone_constraints=None,\n",
       "                                     n_estimators=100, n_jobs...\n",
       "                                     num_parallel_tree=None, random_state=None,\n",
       "                                     reg_alpha=None, reg_lambda=None,\n",
       "                                     scale_pos_weight=None, subsample=None,\n",
       "                                     tree_method=None, validate_parameters=None,\n",
       "                                     verbosity=None),\n",
       "             n_jobs=4,\n",
       "             param_grid={'colsample_bytree': [0.3, 0.4, 0.5, 0.7],\n",
       "                         'eta': [0.05, 0.1, 0.15, 0.2, 0.25, 0.3],\n",
       "                         'gamma': [0.0, 0.1, 0.2, 0.3, 0.4],\n",
       "                         'max_depth': [3, 4, 5, 6, 8, 10, 12, 15],\n",
       "                         'min_child_weight': [1, 3, 5, 7]})"
      ]
     },
     "execution_count": 168,
     "metadata": {},
     "output_type": "execute_result"
    }
   ],
   "source": [
    "clf = xgb.XGBClassifier(objective=\"binary:logistic\")\n",
    "parameters = {\n",
    "     \"eta\"    : [0.05, 0.10, 0.15, 0.20, 0.25, 0.30 ] ,\n",
    "     \"max_depth\"        : [ 3, 4, 5, 6, 8, 10, 12, 15],\n",
    "     \"min_child_weight\" : [ 1, 3, 5, 7 ],\n",
    "     \"gamma\"            : [ 0.0, 0.1, 0.2 , 0.3, 0.4 ],\n",
    "     \"colsample_bytree\" : [ 0.3, 0.4, 0.5 , 0.7 ]\n",
    "     }\n",
    "\n",
    "grid = GridSearchCV(clf,\n",
    "                    parameters, n_jobs=4,\n",
    "                    #scoring=\"neg_log_loss\",\n",
    "                    cv=3)\n",
    "\n",
    "grid.fit(data_train, result_train)"
   ]
  },
  {
   "cell_type": "code",
   "execution_count": 169,
   "metadata": {},
   "outputs": [],
   "source": [
    "best_pars = grid.best_params_"
   ]
  },
  {
   "cell_type": "code",
   "execution_count": 170,
   "metadata": {},
   "outputs": [
    {
     "data": {
      "text/plain": [
       "{'colsample_bytree': 0.5,\n",
       " 'eta': 0.05,\n",
       " 'gamma': 0.4,\n",
       " 'max_depth': 4,\n",
       " 'min_child_weight': 3}"
      ]
     },
     "execution_count": 170,
     "metadata": {},
     "output_type": "execute_result"
    }
   ],
   "source": [
    "best_pars"
   ]
  },
  {
   "cell_type": "code",
   "execution_count": 171,
   "metadata": {},
   "outputs": [],
   "source": [
    "best_model = grid.best_estimator_"
   ]
  },
  {
   "cell_type": "code",
   "execution_count": 172,
   "metadata": {
    "scrolled": true
   },
   "outputs": [
    {
     "data": {
      "text/plain": [
       "XGBClassifier(base_score=0.5, booster='gbtree', colsample_bylevel=1,\n",
       "              colsample_bynode=1, colsample_bytree=0.5, eta=0.05, gamma=0.4,\n",
       "              gpu_id=-1, importance_type='gain', interaction_constraints='',\n",
       "              learning_rate=0.0500000007, max_delta_step=0, max_depth=4,\n",
       "              min_child_weight=3, missing=nan, monotone_constraints='()',\n",
       "              n_estimators=100, n_jobs=0, num_parallel_tree=1, random_state=0,\n",
       "              reg_alpha=0, reg_lambda=1, scale_pos_weight=1, subsample=1,\n",
       "              tree_method='exact', validate_parameters=1, verbosity=None)"
      ]
     },
     "execution_count": 172,
     "metadata": {},
     "output_type": "execute_result"
    }
   ],
   "source": [
    "best_model"
   ]
  },
  {
   "cell_type": "code",
   "execution_count": 175,
   "metadata": {},
   "outputs": [],
   "source": [
    "pickle.dump(grid.best_estimator_, open(\"xgb_log_reg.pickle\", \"wb\"))"
   ]
  },
  {
   "cell_type": "code",
   "execution_count": 179,
   "metadata": {},
   "outputs": [],
   "source": [
    "best_model_grid = xgb.XGBClassifier(objective=\"binary:logistic\", base_score=0.5, booster='gbtree', colsample_bylevel=1,\n",
    "              colsample_bynode=1, colsample_bytree=0.5, eta=0.05, gamma=0.4,\n",
    "              gpu_id=-1, importance_type='gain', interaction_constraints='',\n",
    "              learning_rate=0.0500000007, max_delta_step=0, max_depth=4,\n",
    "              min_child_weight=3, missing='nan', monotone_constraints='()',\n",
    "              n_estimators=100, n_jobs=0, num_parallel_tree=1, random_state=0,\n",
    "              reg_alpha=0, reg_lambda=1, scale_pos_weight=1, subsample=1,\n",
    "              tree_method='exact', validate_parameters=1, verbosity=None)"
   ]
  },
  {
   "cell_type": "code",
   "execution_count": 58,
   "metadata": {},
   "outputs": [],
   "source": [
    "#best_model_grid.fit(data_train, result_train)"
   ]
  }
 ],
 "metadata": {
  "kernelspec": {
   "display_name": "Python 3",
   "language": "python",
   "name": "python3"
  },
  "language_info": {
   "codemirror_mode": {
    "name": "ipython",
    "version": 3
   },
   "file_extension": ".py",
   "mimetype": "text/x-python",
   "name": "python",
   "nbconvert_exporter": "python",
   "pygments_lexer": "ipython3",
   "version": "3.7.6"
  }
 },
 "nbformat": 4,
 "nbformat_minor": 4
}
